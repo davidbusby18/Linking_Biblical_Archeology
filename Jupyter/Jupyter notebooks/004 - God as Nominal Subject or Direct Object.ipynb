{
 "cells": [
  {
   "cell_type": "markdown",
   "metadata": {},
   "source": [
    "# Motivation\n",
    "\n",
    "Now, that I've extracted the people names and geopolitical entities contained within the Bible, I want to know how often God or Yahwah is either the nominal subject or direct object in the Bible. So how often is God doing something and how often is something being done to God?"
   ]
  },
  {
   "cell_type": "markdown",
   "metadata": {},
   "source": [
    "# Set up\n",
    "\n",
    "This is my typical set up. I import the modules I will use, set my project directory, remove column and row limits, and allow Jupyter to display all of the output from each cell."
   ]
  },
  {
   "cell_type": "code",
   "execution_count": 1,
   "metadata": {},
   "outputs": [],
   "source": [
    "import os\n",
    "import pandas as pd\n",
    "import numpy as np\n",
    "import sqlite3\n",
    "import spacy\n",
    "from datetime import datetime\n",
    "\n",
    "# Set project folder as directory\n",
    "os.chdir(r'C:/Users/david/Projects/Bible Analytics')\n",
    "\n",
    "# Remove row and column limits\n",
    "pd.set_option('display.max_columns', None)\n",
    "pd.set_option('display.max_colwidth', None)\n",
    "pd.set_option('display.max_rows', None)\n",
    "\n",
    "# Display all output from each cell\n",
    "from IPython.core.interactiveshell import InteractiveShell\n",
    "InteractiveShell.ast_node_interactivity = 'all'"
   ]
  },
  {
   "cell_type": "markdown",
   "metadata": {},
   "source": [
    "# Accessing data"
   ]
  },
  {
   "cell_type": "code",
   "execution_count": 2,
   "metadata": {},
   "outputs": [],
   "source": [
    "database = 'Data/SQL database.db'"
   ]
  },
  {
   "cell_type": "code",
   "execution_count": 3,
   "metadata": {},
   "outputs": [
    {
     "data": {
      "text/plain": [
       "<function Connection.close()>"
      ]
     },
     "execution_count": 3,
     "metadata": {},
     "output_type": "execute_result"
    }
   ],
   "source": [
    "conn = sqlite3.connect(database)\n",
    " \n",
    "df = pd.read_sql_query('SELECT * FROM t_web', conn)\n",
    " \n",
    "conn.close"
   ]
  },
  {
   "cell_type": "code",
   "execution_count": 4,
   "metadata": {},
   "outputs": [
    {
     "name": "stdout",
     "output_type": "stream",
     "text": [
      "<class 'pandas.core.frame.DataFrame'>\n",
      "RangeIndex: 31102 entries, 0 to 31101\n",
      "Data columns (total 9 columns):\n",
      " #   Column   Non-Null Count  Dtype \n",
      "---  ------   --------------  ----- \n",
      " 0   name     31102 non-null  object\n",
      " 1   old_new  31102 non-null  object\n",
      " 2   group    31102 non-null  int64 \n",
      " 3   id       31102 non-null  int64 \n",
      " 4   b        31102 non-null  int64 \n",
      " 5   c        31102 non-null  int64 \n",
      " 6   v        31102 non-null  int64 \n",
      " 7   t        31102 non-null  object\n",
      " 8   clean_t  31102 non-null  object\n",
      "dtypes: int64(5), object(4)\n",
      "memory usage: 2.1+ MB\n"
     ]
    },
    {
     "data": {
      "text/html": [
       "<div>\n",
       "<style scoped>\n",
       "    .dataframe tbody tr th:only-of-type {\n",
       "        vertical-align: middle;\n",
       "    }\n",
       "\n",
       "    .dataframe tbody tr th {\n",
       "        vertical-align: top;\n",
       "    }\n",
       "\n",
       "    .dataframe thead th {\n",
       "        text-align: right;\n",
       "    }\n",
       "</style>\n",
       "<table border=\"1\" class=\"dataframe\">\n",
       "  <thead>\n",
       "    <tr style=\"text-align: right;\">\n",
       "      <th></th>\n",
       "      <th>name</th>\n",
       "      <th>old_new</th>\n",
       "      <th>group</th>\n",
       "      <th>id</th>\n",
       "      <th>b</th>\n",
       "      <th>c</th>\n",
       "      <th>v</th>\n",
       "      <th>t</th>\n",
       "      <th>clean_t</th>\n",
       "    </tr>\n",
       "  </thead>\n",
       "  <tbody>\n",
       "    <tr>\n",
       "      <th>0</th>\n",
       "      <td>Genesis</td>\n",
       "      <td>OT</td>\n",
       "      <td>1</td>\n",
       "      <td>1001001</td>\n",
       "      <td>1</td>\n",
       "      <td>1</td>\n",
       "      <td>1</td>\n",
       "      <td>In the beginning God{After \"God,\" the Hebrew has the two letters \"Aleph Tav\" (the first and last letters of the Hebrew alphabet) as a grammatical marker.} created the heavens and the earth.</td>\n",
       "      <td>In the beginning God created the heavens and the earth.</td>\n",
       "    </tr>\n",
       "    <tr>\n",
       "      <th>1</th>\n",
       "      <td>Genesis</td>\n",
       "      <td>OT</td>\n",
       "      <td>1</td>\n",
       "      <td>1001002</td>\n",
       "      <td>1</td>\n",
       "      <td>1</td>\n",
       "      <td>2</td>\n",
       "      <td>Now the earth was formless and empty. Darkness was on the surface of the deep. God's Spirit was hovering over the surface of the waters.</td>\n",
       "      <td>Now the earth was formless and empty. Darkness was on the surface of the deep. God's Spirit was hovering over the surface of the waters.</td>\n",
       "    </tr>\n",
       "    <tr>\n",
       "      <th>2</th>\n",
       "      <td>Genesis</td>\n",
       "      <td>OT</td>\n",
       "      <td>1</td>\n",
       "      <td>1001003</td>\n",
       "      <td>1</td>\n",
       "      <td>1</td>\n",
       "      <td>3</td>\n",
       "      <td>God said, \"Let there be light,\" and there was light.</td>\n",
       "      <td>God said, \"Let there be light,\" and there was light.</td>\n",
       "    </tr>\n",
       "    <tr>\n",
       "      <th>3</th>\n",
       "      <td>Genesis</td>\n",
       "      <td>OT</td>\n",
       "      <td>1</td>\n",
       "      <td>1001004</td>\n",
       "      <td>1</td>\n",
       "      <td>1</td>\n",
       "      <td>4</td>\n",
       "      <td>God saw the light, and saw that it was good. God divided the light from the darkness.</td>\n",
       "      <td>God saw the light, and saw that it was good. God divided the light from the darkness.</td>\n",
       "    </tr>\n",
       "    <tr>\n",
       "      <th>4</th>\n",
       "      <td>Genesis</td>\n",
       "      <td>OT</td>\n",
       "      <td>1</td>\n",
       "      <td>1001005</td>\n",
       "      <td>1</td>\n",
       "      <td>1</td>\n",
       "      <td>5</td>\n",
       "      <td>God called the light Day, and the darkness he called Night. There was evening and there was morning, one day.</td>\n",
       "      <td>God called the light Day, and the darkness he called Night. There was evening and there was morning, one day.</td>\n",
       "    </tr>\n",
       "  </tbody>\n",
       "</table>\n",
       "</div>"
      ],
      "text/plain": [
       "      name old_new  group       id  b  c  v  \\\n",
       "0  Genesis      OT      1  1001001  1  1  1   \n",
       "1  Genesis      OT      1  1001002  1  1  2   \n",
       "2  Genesis      OT      1  1001003  1  1  3   \n",
       "3  Genesis      OT      1  1001004  1  1  4   \n",
       "4  Genesis      OT      1  1001005  1  1  5   \n",
       "\n",
       "                                                                                                                                                                                               t  \\\n",
       "0  In the beginning God{After \"God,\" the Hebrew has the two letters \"Aleph Tav\" (the first and last letters of the Hebrew alphabet) as a grammatical marker.} created the heavens and the earth.   \n",
       "1                                                       Now the earth was formless and empty. Darkness was on the surface of the deep. God's Spirit was hovering over the surface of the waters.   \n",
       "2                                                                                                                                           God said, \"Let there be light,\" and there was light.   \n",
       "3                                                                                                          God saw the light, and saw that it was good. God divided the light from the darkness.   \n",
       "4                                                                                  God called the light Day, and the darkness he called Night. There was evening and there was morning, one day.   \n",
       "\n",
       "                                                                                                                                    clean_t  \n",
       "0                                                                                   In the beginning God created the heavens and the earth.  \n",
       "1  Now the earth was formless and empty. Darkness was on the surface of the deep. God's Spirit was hovering over the surface of the waters.  \n",
       "2                                                                                      God said, \"Let there be light,\" and there was light.  \n",
       "3                                                     God saw the light, and saw that it was good. God divided the light from the darkness.  \n",
       "4                             God called the light Day, and the darkness he called Night. There was evening and there was morning, one day.  "
      ]
     },
     "execution_count": 4,
     "metadata": {},
     "output_type": "execute_result"
    }
   ],
   "source": [
    "df.info()\n",
    "df.head()"
   ]
  },
  {
   "cell_type": "markdown",
   "metadata": {},
   "source": [
    "# BEGIN\n",
    "\n"
   ]
  },
  {
   "cell_type": "code",
   "execution_count": 5,
   "metadata": {},
   "outputs": [],
   "source": [
    "df_sub = df.head(10)"
   ]
  },
  {
   "cell_type": "code",
   "execution_count": null,
   "metadata": {},
   "outputs": [],
   "source": [
    "nlp = spacy.load(\"en_core_web_lg\")\n",
    "\n",
    "# Ignore this\n",
    "start = datetime.now()\n",
    "# Stop ignoring\n",
    "\n",
    "\n",
    "for index, row in df_sub.iterrows():\n",
    "    \n",
    "    try:\n",
    "        \n",
    "        doc = nlp(row['clean_t'])\n",
    "    \n",
    "        for token in doc:\n",
    "            \n",
    "            if token.text in(['God', 'Yahwah']):\n",
    "                print(token.text)"
   ]
  },
  {
   "cell_type": "code",
   "execution_count": null,
   "metadata": {},
   "outputs": [],
   "source": [
    "nlp = spacy.load(\"en_core_web_lg\")\n",
    "\n",
    "people = {}\n",
    "gpe = {}\n",
    "\n",
    "# Ignore this\n",
    "start = datetime.now()\n",
    "# Stop ignoring\n",
    "\n",
    "\n",
    "for index, row in df.iterrows():\n",
    "    \n",
    "    try:\n",
    "        \n",
    "        doc = nlp(row['clean_t'])\n",
    "    \n",
    "        for token in doc:\n",
    "            \n",
    "            if token in(['God', 'Yahwah'])\n",
    "            \n",
    "            \n",
    "            # People        \n",
    "            if ent.label_ == 'PERSON':\n",
    "                \n",
    "                if ent.text in people:\n",
    "                    people[ent.text]+=1\n",
    "                    \n",
    "                else:\n",
    "                    people[ent.text]=1\n",
    "                    \n",
    "            # GPE        \n",
    "            if ent.label_ == 'GPE':\n",
    "                \n",
    "                if ent.text in gpe:\n",
    "                    gpe[ent.text]+=1\n",
    "                    \n",
    "                else:\n",
    "                    gpe[ent.text]=1\n",
    "                    \n",
    "    except:\n",
    "        \n",
    "        try:\n",
    "            \n",
    "            doc = nlp(row['t'])\n",
    "            \n",
    "            for ent in doc.ents:\n",
    "                \n",
    "                # People        \n",
    "                if ent.label_ == 'PERSON':\n",
    "                    \n",
    "                    if ent.text in people:\n",
    "                        people[ent.text]+=1\n",
    "                        \n",
    "                    else:\n",
    "                        people[ent.text]=1\n",
    "                        \n",
    "                # GPE        \n",
    "                if ent.label_ == 'GPE':\n",
    "                    \n",
    "                    if ent.text in gpe:\n",
    "                        gpe[ent.text]+=1\n",
    "                        \n",
    "                    else:\n",
    "                        gpe[ent.text]=1\n",
    "                    \n",
    "        except:\n",
    "            \n",
    "            print('Check out this verse.')\n",
    "            print(row['name'], row['c'], ':', row['v'])\n",
    "            print()\n",
    "            print()\n",
    "    \n",
    "    \n",
    "# Ignore this\n",
    "stop = datetime.now()\n",
    "\n",
    "print('This process took', stop-start)"
   ]
  },
  {
   "cell_type": "code",
   "execution_count": null,
   "metadata": {},
   "outputs": [],
   "source": [
    " token.dep_"
   ]
  }
 ],
 "metadata": {
  "kernelspec": {
   "display_name": "Python 3 (ipykernel)",
   "language": "python",
   "name": "python3"
  },
  "language_info": {
   "codemirror_mode": {
    "name": "ipython",
    "version": 3
   },
   "file_extension": ".py",
   "mimetype": "text/x-python",
   "name": "python",
   "nbconvert_exporter": "python",
   "pygments_lexer": "ipython3",
   "version": "3.10.0"
  },
  "latex_envs": {
   "LaTeX_envs_menu_present": true,
   "autoclose": false,
   "autocomplete": true,
   "bibliofile": "biblio.bib",
   "cite_by": "apalike",
   "current_citInitial": 1,
   "eqLabelWithNumbers": true,
   "eqNumInitial": 1,
   "hotkeys": {
    "equation": "Ctrl-E",
    "itemize": "Ctrl-I"
   },
   "labels_anchors": false,
   "latex_user_defs": false,
   "report_style_numbering": false,
   "user_envs_cfg": false
  },
  "toc": {
   "base_numbering": 1,
   "nav_menu": {},
   "number_sections": true,
   "sideBar": true,
   "skip_h1_title": false,
   "title_cell": "Table of Contents",
   "title_sidebar": "Contents",
   "toc_cell": false,
   "toc_position": {},
   "toc_section_display": true,
   "toc_window_display": false
  }
 },
 "nbformat": 4,
 "nbformat_minor": 4
}
