{
 "cells": [
  {
   "cell_type": "markdown",
   "metadata": {},
   "source": [
    "# SET UP"
   ]
  },
  {
   "cell_type": "code",
   "execution_count": 1,
   "metadata": {},
   "outputs": [],
   "source": [
    "import os\n",
    "import pandas as pd\n",
    "import numpy as np\n",
    "import sqlite3\n",
    "import re\n",
    "\n",
    "# Set project folder as directory\n",
    "os.chdir(r'C:/Users/david/Projects/Bible Analytics')\n",
    "\n",
    "# Remove row and column limits\n",
    "pd.set_option('display.max_columns', None)\n",
    "pd.set_option('display.max_colwidth', None)\n",
    "pd.set_option('display.max_rows', None)\n",
    "\n",
    "# Display all output from each cell\n",
    "from IPython.core.interactiveshell import InteractiveShell\n",
    "InteractiveShell.ast_node_interactivity = 'all'"
   ]
  },
  {
   "cell_type": "markdown",
   "metadata": {},
   "source": [
    "# PULLING DATA\n",
    "\n",
    "I will use the World English Bible translation as my data source. I want to do text analytics and using every day English will make this easier. I was able to download the text from Kaggle, and I've already processed the data. You can find the text I used here: https://www.kaggle.com/oswinrh/bible#t_asv.csv"
   ]
  },
  {
   "cell_type": "code",
   "execution_count": 2,
   "metadata": {},
   "outputs": [],
   "source": [
    "df = pd.read_csv('Translations/World English Bible/t_web.csv')"
   ]
  },
  {
   "cell_type": "code",
   "execution_count": 3,
   "metadata": {},
   "outputs": [
    {
     "name": "stdout",
     "output_type": "stream",
     "text": [
      "<class 'pandas.core.frame.DataFrame'>\n",
      "RangeIndex: 31102 entries, 0 to 31101\n",
      "Data columns (total 5 columns):\n",
      " #   Column  Non-Null Count  Dtype \n",
      "---  ------  --------------  ----- \n",
      " 0   id      31102 non-null  int64 \n",
      " 1   b       31102 non-null  int64 \n",
      " 2   c       31102 non-null  int64 \n",
      " 3   v       31102 non-null  int64 \n",
      " 4   t       31102 non-null  object\n",
      "dtypes: int64(4), object(1)\n",
      "memory usage: 1.2+ MB\n"
     ]
    },
    {
     "data": {
      "text/html": [
       "<div>\n",
       "<style scoped>\n",
       "    .dataframe tbody tr th:only-of-type {\n",
       "        vertical-align: middle;\n",
       "    }\n",
       "\n",
       "    .dataframe tbody tr th {\n",
       "        vertical-align: top;\n",
       "    }\n",
       "\n",
       "    .dataframe thead th {\n",
       "        text-align: right;\n",
       "    }\n",
       "</style>\n",
       "<table border=\"1\" class=\"dataframe\">\n",
       "  <thead>\n",
       "    <tr style=\"text-align: right;\">\n",
       "      <th></th>\n",
       "      <th>id</th>\n",
       "      <th>b</th>\n",
       "      <th>c</th>\n",
       "      <th>v</th>\n",
       "      <th>t</th>\n",
       "    </tr>\n",
       "  </thead>\n",
       "  <tbody>\n",
       "    <tr>\n",
       "      <th>0</th>\n",
       "      <td>1001001</td>\n",
       "      <td>1</td>\n",
       "      <td>1</td>\n",
       "      <td>1</td>\n",
       "      <td>In the beginning God{After \"God,\" the Hebrew has the two letters \"Aleph Tav\" (the first and last letters of the Hebrew alphabet) as a grammatical marker.} created the heavens and the earth.</td>\n",
       "    </tr>\n",
       "    <tr>\n",
       "      <th>1</th>\n",
       "      <td>1001002</td>\n",
       "      <td>1</td>\n",
       "      <td>1</td>\n",
       "      <td>2</td>\n",
       "      <td>Now the earth was formless and empty. Darkness was on the surface of the deep. God's Spirit was hovering over the surface of the waters.</td>\n",
       "    </tr>\n",
       "    <tr>\n",
       "      <th>2</th>\n",
       "      <td>1001003</td>\n",
       "      <td>1</td>\n",
       "      <td>1</td>\n",
       "      <td>3</td>\n",
       "      <td>God said, \"Let there be light,\" and there was light.</td>\n",
       "    </tr>\n",
       "    <tr>\n",
       "      <th>3</th>\n",
       "      <td>1001004</td>\n",
       "      <td>1</td>\n",
       "      <td>1</td>\n",
       "      <td>4</td>\n",
       "      <td>God saw the light, and saw that it was good. God divided the light from the darkness.</td>\n",
       "    </tr>\n",
       "    <tr>\n",
       "      <th>4</th>\n",
       "      <td>1001005</td>\n",
       "      <td>1</td>\n",
       "      <td>1</td>\n",
       "      <td>5</td>\n",
       "      <td>God called the light Day, and the darkness he called Night. There was evening and there was morning, one day.</td>\n",
       "    </tr>\n",
       "  </tbody>\n",
       "</table>\n",
       "</div>"
      ],
      "text/plain": [
       "        id  b  c  v  \\\n",
       "0  1001001  1  1  1   \n",
       "1  1001002  1  1  2   \n",
       "2  1001003  1  1  3   \n",
       "3  1001004  1  1  4   \n",
       "4  1001005  1  1  5   \n",
       "\n",
       "                                                                                                                                                                                               t  \n",
       "0  In the beginning God{After \"God,\" the Hebrew has the two letters \"Aleph Tav\" (the first and last letters of the Hebrew alphabet) as a grammatical marker.} created the heavens and the earth.  \n",
       "1                                                       Now the earth was formless and empty. Darkness was on the surface of the deep. God's Spirit was hovering over the surface of the waters.  \n",
       "2                                                                                                                                           God said, \"Let there be light,\" and there was light.  \n",
       "3                                                                                                          God saw the light, and saw that it was good. God divided the light from the darkness.  \n",
       "4                                                                                  God called the light Day, and the darkness he called Night. There was evening and there was morning, one day.  "
      ]
     },
     "execution_count": 3,
     "metadata": {},
     "output_type": "execute_result"
    }
   ],
   "source": [
    "df.info()\n",
    "df.head()"
   ]
  },
  {
   "cell_type": "markdown",
   "metadata": {},
   "source": [
    "The World English Bible contains extra text as definitions, which is can be helpful, but I am only interested in the actual text. The definitions appear to be contains within curly brackets, so I will create another column with these definitions removed. To do this I will create a function called *remove_definitions* and apply it to the text.\n",
    "\n",
    "I've also discovered that this translation will sometimes combine verses such as Romans 14:23-25 and that it contains several non-cannonical books. \n",
    "\n",
    "For now, I will keep the text for the connonical books and remove the data within parentheses, as well."
   ]
  },
  {
   "cell_type": "code",
   "execution_count": 4,
   "metadata": {},
   "outputs": [
    {
     "data": {
      "text/html": [
       "<div>\n",
       "<style scoped>\n",
       "    .dataframe tbody tr th:only-of-type {\n",
       "        vertical-align: middle;\n",
       "    }\n",
       "\n",
       "    .dataframe tbody tr th {\n",
       "        vertical-align: top;\n",
       "    }\n",
       "\n",
       "    .dataframe thead th {\n",
       "        text-align: right;\n",
       "    }\n",
       "</style>\n",
       "<table border=\"1\" class=\"dataframe\">\n",
       "  <thead>\n",
       "    <tr style=\"text-align: right;\">\n",
       "      <th></th>\n",
       "      <th>id</th>\n",
       "      <th>b</th>\n",
       "      <th>c</th>\n",
       "      <th>v</th>\n",
       "      <th>t</th>\n",
       "    </tr>\n",
       "  </thead>\n",
       "  <tbody>\n",
       "    <tr>\n",
       "      <th>28303</th>\n",
       "      <td>45014023</td>\n",
       "      <td>45</td>\n",
       "      <td>14</td>\n",
       "      <td>23</td>\n",
       "      <td>But he who doubts is condemned if he eats, because it isn't of faith; and whatever is not of faith is sin. (14:24) Now to him who is able to establish you according to my Gospel and the preaching of Jesus Christ, according to the revelation of the mystery which has been kept secret through long ages, (14:25) but now is revealed, and by the Scriptures of the prophets, according to the commandment of the eternal God, is made known for obedience of faith to all the nations; (14:26) to the only wise God, through Jesus Christ, to whom be the glory forever! Amen.{TR places verses 24-26 after Romans 16:24 as verses 25-27.}</td>\n",
       "    </tr>\n",
       "  </tbody>\n",
       "</table>\n",
       "</div>"
      ],
      "text/plain": [
       "             id   b   c   v  \\\n",
       "28303  45014023  45  14  23   \n",
       "\n",
       "                                                                                                                                                                                                                                                                                                                                                                                                                                                                                                                                                                                                                                                     t  \n",
       "28303  But he who doubts is condemned if he eats, because it isn't of faith; and whatever is not of faith is sin. (14:24) Now to him who is able to establish you according to my Gospel and the preaching of Jesus Christ, according to the revelation of the mystery which has been kept secret through long ages, (14:25) but now is revealed, and by the Scriptures of the prophets, according to the commandment of the eternal God, is made known for obedience of faith to all the nations; (14:26) to the only wise God, through Jesus Christ, to whom be the glory forever! Amen.{TR places verses 24-26 after Romans 16:24 as verses 25-27.}  "
      ]
     },
     "execution_count": 4,
     "metadata": {},
     "output_type": "execute_result"
    }
   ],
   "source": [
    "df[(df['b']==45) & (df['c']==14) & (df['v']==23)]"
   ]
  },
  {
   "cell_type": "code",
   "execution_count": 5,
   "metadata": {},
   "outputs": [],
   "source": [
    "def clean(my_str):    \n",
    "    \n",
    "    clean = re.sub('{[^>]+}', '', my_str)\n",
    "    clean = re.sub('\\(+[\\d+]+[:]+[\\d+]+\\)', '', clean)\n",
    "    clean = re.sub('  ', ' ', clean)\n",
    "    \n",
    "    return clean"
   ]
  },
  {
   "cell_type": "code",
   "execution_count": 6,
   "metadata": {},
   "outputs": [
    {
     "data": {
      "text/plain": [
       "0    In the beginning God{After \"God,\" the Hebrew has the two letters \"Aleph Tav\" (the first and last letters of the Hebrew alphabet) as a grammatical marker.} created the heavens and the earth.\n",
       "Name: t, dtype: object"
      ]
     },
     "execution_count": 6,
     "metadata": {},
     "output_type": "execute_result"
    }
   ],
   "source": [
    "df[(df['b']==1) & (df['c']==1) & (df['v']==1)]['t']"
   ]
  },
  {
   "cell_type": "code",
   "execution_count": 7,
   "metadata": {},
   "outputs": [
    {
     "data": {
      "text/plain": [
       "0    In the beginning God created the heavens and the earth.\n",
       "Name: t, dtype: object"
      ]
     },
     "execution_count": 7,
     "metadata": {},
     "output_type": "execute_result"
    }
   ],
   "source": [
    "df[(df['b']==1) & (df['c']==1) & (df['v']==1)]['t'].apply(clean)"
   ]
  },
  {
   "cell_type": "code",
   "execution_count": 8,
   "metadata": {},
   "outputs": [
    {
     "data": {
      "text/plain": [
       "28303    But he who doubts is condemned if he eats, because it isn't of faith; and whatever is not of faith is sin. (14:24) Now to him who is able to establish you according to my Gospel and the preaching of Jesus Christ, according to the revelation of the mystery which has been kept secret through long ages, (14:25) but now is revealed, and by the Scriptures of the prophets, according to the commandment of the eternal God, is made known for obedience of faith to all the nations; (14:26) to the only wise God, through Jesus Christ, to whom be the glory forever! Amen.{TR places verses 24-26 after Romans 16:24 as verses 25-27.}\n",
       "Name: t, dtype: object"
      ]
     },
     "execution_count": 8,
     "metadata": {},
     "output_type": "execute_result"
    }
   ],
   "source": [
    "df[(df['b']==45) & (df['c']==14) & (df['v']==23)]['t']"
   ]
  },
  {
   "cell_type": "code",
   "execution_count": 9,
   "metadata": {},
   "outputs": [
    {
     "data": {
      "text/plain": [
       "28303    But he who doubts is condemned if he eats, because it isn't of faith; and whatever is not of faith is sin. Now to him who is able to establish you according to my Gospel and the preaching of Jesus Christ, according to the revelation of the mystery which has been kept secret through long ages, but now is revealed, and by the Scriptures of the prophets, according to the commandment of the eternal God, is made known for obedience of faith to all the nations; to the only wise God, through Jesus Christ, to whom be the glory forever! Amen.\n",
       "Name: t, dtype: object"
      ]
     },
     "execution_count": 9,
     "metadata": {},
     "output_type": "execute_result"
    }
   ],
   "source": [
    "df[(df['b']==45) & (df['c']==14) & (df['v']==23)]['t'].apply(clean)"
   ]
  },
  {
   "cell_type": "code",
   "execution_count": 10,
   "metadata": {},
   "outputs": [],
   "source": [
    "df['clean_t'] = df['t'].apply(clean)"
   ]
  },
  {
   "cell_type": "code",
   "execution_count": 11,
   "metadata": {},
   "outputs": [
    {
     "name": "stdout",
     "output_type": "stream",
     "text": [
      "<class 'pandas.core.frame.DataFrame'>\n",
      "RangeIndex: 31102 entries, 0 to 31101\n",
      "Data columns (total 6 columns):\n",
      " #   Column   Non-Null Count  Dtype \n",
      "---  ------   --------------  ----- \n",
      " 0   id       31102 non-null  int64 \n",
      " 1   b        31102 non-null  int64 \n",
      " 2   c        31102 non-null  int64 \n",
      " 3   v        31102 non-null  int64 \n",
      " 4   t        31102 non-null  object\n",
      " 5   clean_t  31102 non-null  object\n",
      "dtypes: int64(4), object(2)\n",
      "memory usage: 1.4+ MB\n"
     ]
    },
    {
     "data": {
      "text/html": [
       "<div>\n",
       "<style scoped>\n",
       "    .dataframe tbody tr th:only-of-type {\n",
       "        vertical-align: middle;\n",
       "    }\n",
       "\n",
       "    .dataframe tbody tr th {\n",
       "        vertical-align: top;\n",
       "    }\n",
       "\n",
       "    .dataframe thead th {\n",
       "        text-align: right;\n",
       "    }\n",
       "</style>\n",
       "<table border=\"1\" class=\"dataframe\">\n",
       "  <thead>\n",
       "    <tr style=\"text-align: right;\">\n",
       "      <th></th>\n",
       "      <th>id</th>\n",
       "      <th>b</th>\n",
       "      <th>c</th>\n",
       "      <th>v</th>\n",
       "      <th>t</th>\n",
       "      <th>clean_t</th>\n",
       "    </tr>\n",
       "  </thead>\n",
       "  <tbody>\n",
       "    <tr>\n",
       "      <th>0</th>\n",
       "      <td>1001001</td>\n",
       "      <td>1</td>\n",
       "      <td>1</td>\n",
       "      <td>1</td>\n",
       "      <td>In the beginning God{After \"God,\" the Hebrew has the two letters \"Aleph Tav\" (the first and last letters of the Hebrew alphabet) as a grammatical marker.} created the heavens and the earth.</td>\n",
       "      <td>In the beginning God created the heavens and the earth.</td>\n",
       "    </tr>\n",
       "    <tr>\n",
       "      <th>1</th>\n",
       "      <td>1001002</td>\n",
       "      <td>1</td>\n",
       "      <td>1</td>\n",
       "      <td>2</td>\n",
       "      <td>Now the earth was formless and empty. Darkness was on the surface of the deep. God's Spirit was hovering over the surface of the waters.</td>\n",
       "      <td>Now the earth was formless and empty. Darkness was on the surface of the deep. God's Spirit was hovering over the surface of the waters.</td>\n",
       "    </tr>\n",
       "    <tr>\n",
       "      <th>2</th>\n",
       "      <td>1001003</td>\n",
       "      <td>1</td>\n",
       "      <td>1</td>\n",
       "      <td>3</td>\n",
       "      <td>God said, \"Let there be light,\" and there was light.</td>\n",
       "      <td>God said, \"Let there be light,\" and there was light.</td>\n",
       "    </tr>\n",
       "    <tr>\n",
       "      <th>3</th>\n",
       "      <td>1001004</td>\n",
       "      <td>1</td>\n",
       "      <td>1</td>\n",
       "      <td>4</td>\n",
       "      <td>God saw the light, and saw that it was good. God divided the light from the darkness.</td>\n",
       "      <td>God saw the light, and saw that it was good. God divided the light from the darkness.</td>\n",
       "    </tr>\n",
       "    <tr>\n",
       "      <th>4</th>\n",
       "      <td>1001005</td>\n",
       "      <td>1</td>\n",
       "      <td>1</td>\n",
       "      <td>5</td>\n",
       "      <td>God called the light Day, and the darkness he called Night. There was evening and there was morning, one day.</td>\n",
       "      <td>God called the light Day, and the darkness he called Night. There was evening and there was morning, one day.</td>\n",
       "    </tr>\n",
       "  </tbody>\n",
       "</table>\n",
       "</div>"
      ],
      "text/plain": [
       "        id  b  c  v  \\\n",
       "0  1001001  1  1  1   \n",
       "1  1001002  1  1  2   \n",
       "2  1001003  1  1  3   \n",
       "3  1001004  1  1  4   \n",
       "4  1001005  1  1  5   \n",
       "\n",
       "                                                                                                                                                                                               t  \\\n",
       "0  In the beginning God{After \"God,\" the Hebrew has the two letters \"Aleph Tav\" (the first and last letters of the Hebrew alphabet) as a grammatical marker.} created the heavens and the earth.   \n",
       "1                                                       Now the earth was formless and empty. Darkness was on the surface of the deep. God's Spirit was hovering over the surface of the waters.   \n",
       "2                                                                                                                                           God said, \"Let there be light,\" and there was light.   \n",
       "3                                                                                                          God saw the light, and saw that it was good. God divided the light from the darkness.   \n",
       "4                                                                                  God called the light Day, and the darkness he called Night. There was evening and there was morning, one day.   \n",
       "\n",
       "                                                                                                                                    clean_t  \n",
       "0                                                                                   In the beginning God created the heavens and the earth.  \n",
       "1  Now the earth was formless and empty. Darkness was on the surface of the deep. God's Spirit was hovering over the surface of the waters.  \n",
       "2                                                                                      God said, \"Let there be light,\" and there was light.  \n",
       "3                                                     God saw the light, and saw that it was good. God divided the light from the darkness.  \n",
       "4                             God called the light Day, and the darkness he called Night. There was evening and there was morning, one day.  "
      ]
     },
     "execution_count": 11,
     "metadata": {},
     "output_type": "execute_result"
    }
   ],
   "source": [
    "df.info()\n",
    "df.head()"
   ]
  },
  {
   "cell_type": "markdown",
   "metadata": {},
   "source": [
    "# MERGING WITH BOOK NAMES\n",
    "Before storing this data as a SQL table, I want to make one update to the dataframe. I want to add the actual book names. I have another dataset called \"key_english\" that contains the actual book names and the book numbers. It also contains useful information about the Old and New Testaments and Bible groupings.\n",
    "\n",
    "I will import this data and merge it will my text data. One note on merging, I want the book names to show up at the beginning of my new dataframe, so I'm going to merge df with key rather than key with df. This is a subtle difference and completely based on my preference, but I think I'll be happier with the data formated in this way."
   ]
  },
  {
   "cell_type": "code",
   "execution_count": 12,
   "metadata": {},
   "outputs": [],
   "source": [
    "key = pd.read_csv('Jupyter/Jupyter data/key_english.csv')"
   ]
  },
  {
   "cell_type": "code",
   "execution_count": 13,
   "metadata": {},
   "outputs": [
    {
     "name": "stdout",
     "output_type": "stream",
     "text": [
      "<class 'pandas.core.frame.DataFrame'>\n",
      "Int64Index: 31102 entries, 0 to 31101\n",
      "Data columns (total 9 columns):\n",
      " #   Column   Non-Null Count  Dtype \n",
      "---  ------   --------------  ----- \n",
      " 0   b        31102 non-null  int64 \n",
      " 1   name     31102 non-null  object\n",
      " 2   old_new  31102 non-null  object\n",
      " 3   group    31102 non-null  int64 \n",
      " 4   id       31102 non-null  int64 \n",
      " 5   c        31102 non-null  int64 \n",
      " 6   v        31102 non-null  int64 \n",
      " 7   t        31102 non-null  object\n",
      " 8   clean_t  31102 non-null  object\n",
      "dtypes: int64(5), object(4)\n",
      "memory usage: 2.4+ MB\n"
     ]
    },
    {
     "data": {
      "text/html": [
       "<div>\n",
       "<style scoped>\n",
       "    .dataframe tbody tr th:only-of-type {\n",
       "        vertical-align: middle;\n",
       "    }\n",
       "\n",
       "    .dataframe tbody tr th {\n",
       "        vertical-align: top;\n",
       "    }\n",
       "\n",
       "    .dataframe thead th {\n",
       "        text-align: right;\n",
       "    }\n",
       "</style>\n",
       "<table border=\"1\" class=\"dataframe\">\n",
       "  <thead>\n",
       "    <tr style=\"text-align: right;\">\n",
       "      <th></th>\n",
       "      <th>b</th>\n",
       "      <th>name</th>\n",
       "      <th>old_new</th>\n",
       "      <th>group</th>\n",
       "      <th>id</th>\n",
       "      <th>c</th>\n",
       "      <th>v</th>\n",
       "      <th>t</th>\n",
       "      <th>clean_t</th>\n",
       "    </tr>\n",
       "  </thead>\n",
       "  <tbody>\n",
       "    <tr>\n",
       "      <th>0</th>\n",
       "      <td>1</td>\n",
       "      <td>Genesis</td>\n",
       "      <td>OT</td>\n",
       "      <td>1</td>\n",
       "      <td>1001001</td>\n",
       "      <td>1</td>\n",
       "      <td>1</td>\n",
       "      <td>In the beginning God{After \"God,\" the Hebrew has the two letters \"Aleph Tav\" (the first and last letters of the Hebrew alphabet) as a grammatical marker.} created the heavens and the earth.</td>\n",
       "      <td>In the beginning God created the heavens and the earth.</td>\n",
       "    </tr>\n",
       "    <tr>\n",
       "      <th>1</th>\n",
       "      <td>1</td>\n",
       "      <td>Genesis</td>\n",
       "      <td>OT</td>\n",
       "      <td>1</td>\n",
       "      <td>1001002</td>\n",
       "      <td>1</td>\n",
       "      <td>2</td>\n",
       "      <td>Now the earth was formless and empty. Darkness was on the surface of the deep. God's Spirit was hovering over the surface of the waters.</td>\n",
       "      <td>Now the earth was formless and empty. Darkness was on the surface of the deep. God's Spirit was hovering over the surface of the waters.</td>\n",
       "    </tr>\n",
       "    <tr>\n",
       "      <th>2</th>\n",
       "      <td>1</td>\n",
       "      <td>Genesis</td>\n",
       "      <td>OT</td>\n",
       "      <td>1</td>\n",
       "      <td>1001003</td>\n",
       "      <td>1</td>\n",
       "      <td>3</td>\n",
       "      <td>God said, \"Let there be light,\" and there was light.</td>\n",
       "      <td>God said, \"Let there be light,\" and there was light.</td>\n",
       "    </tr>\n",
       "    <tr>\n",
       "      <th>3</th>\n",
       "      <td>1</td>\n",
       "      <td>Genesis</td>\n",
       "      <td>OT</td>\n",
       "      <td>1</td>\n",
       "      <td>1001004</td>\n",
       "      <td>1</td>\n",
       "      <td>4</td>\n",
       "      <td>God saw the light, and saw that it was good. God divided the light from the darkness.</td>\n",
       "      <td>God saw the light, and saw that it was good. God divided the light from the darkness.</td>\n",
       "    </tr>\n",
       "    <tr>\n",
       "      <th>4</th>\n",
       "      <td>1</td>\n",
       "      <td>Genesis</td>\n",
       "      <td>OT</td>\n",
       "      <td>1</td>\n",
       "      <td>1001005</td>\n",
       "      <td>1</td>\n",
       "      <td>5</td>\n",
       "      <td>God called the light Day, and the darkness he called Night. There was evening and there was morning, one day.</td>\n",
       "      <td>God called the light Day, and the darkness he called Night. There was evening and there was morning, one day.</td>\n",
       "    </tr>\n",
       "  </tbody>\n",
       "</table>\n",
       "</div>"
      ],
      "text/plain": [
       "   b     name old_new  group       id  c  v  \\\n",
       "0  1  Genesis      OT      1  1001001  1  1   \n",
       "1  1  Genesis      OT      1  1001002  1  2   \n",
       "2  1  Genesis      OT      1  1001003  1  3   \n",
       "3  1  Genesis      OT      1  1001004  1  4   \n",
       "4  1  Genesis      OT      1  1001005  1  5   \n",
       "\n",
       "                                                                                                                                                                                               t  \\\n",
       "0  In the beginning God{After \"God,\" the Hebrew has the two letters \"Aleph Tav\" (the first and last letters of the Hebrew alphabet) as a grammatical marker.} created the heavens and the earth.   \n",
       "1                                                       Now the earth was formless and empty. Darkness was on the surface of the deep. God's Spirit was hovering over the surface of the waters.   \n",
       "2                                                                                                                                           God said, \"Let there be light,\" and there was light.   \n",
       "3                                                                                                          God saw the light, and saw that it was good. God divided the light from the darkness.   \n",
       "4                                                                                  God called the light Day, and the darkness he called Night. There was evening and there was morning, one day.   \n",
       "\n",
       "                                                                                                                                    clean_t  \n",
       "0                                                                                   In the beginning God created the heavens and the earth.  \n",
       "1  Now the earth was formless and empty. Darkness was on the surface of the deep. God's Spirit was hovering over the surface of the waters.  \n",
       "2                                                                                      God said, \"Let there be light,\" and there was light.  \n",
       "3                                                     God saw the light, and saw that it was good. God divided the light from the darkness.  \n",
       "4                             God called the light Day, and the darkness he called Night. There was evening and there was morning, one day.  "
      ]
     },
     "execution_count": 13,
     "metadata": {},
     "output_type": "execute_result"
    }
   ],
   "source": [
    "df = key.merge(df, how='inner', left_on='b', right_on='b')\n",
    "\n",
    "df.info()\n",
    "df.head()"
   ]
  },
  {
   "cell_type": "markdown",
   "metadata": {},
   "source": [
    "I still don't like the column order becasue \"b\" is separate from 'c' and 'v'. I'll fix that in the next line of code."
   ]
  },
  {
   "cell_type": "code",
   "execution_count": 14,
   "metadata": {},
   "outputs": [
    {
     "data": {
      "text/plain": [
       "Index(['b', 'name', 'old_new', 'group', 'id', 'c', 'v', 't', 'clean_t'], dtype='object')"
      ]
     },
     "execution_count": 14,
     "metadata": {},
     "output_type": "execute_result"
    }
   ],
   "source": [
    "df.columns"
   ]
  },
  {
   "cell_type": "code",
   "execution_count": 15,
   "metadata": {},
   "outputs": [],
   "source": [
    "df = df[['name', 'old_new', 'group', 'id', 'b', 'c', 'v', 't', 'clean_t']]"
   ]
  },
  {
   "cell_type": "code",
   "execution_count": 16,
   "metadata": {},
   "outputs": [
    {
     "data": {
      "text/html": [
       "<div>\n",
       "<style scoped>\n",
       "    .dataframe tbody tr th:only-of-type {\n",
       "        vertical-align: middle;\n",
       "    }\n",
       "\n",
       "    .dataframe tbody tr th {\n",
       "        vertical-align: top;\n",
       "    }\n",
       "\n",
       "    .dataframe thead th {\n",
       "        text-align: right;\n",
       "    }\n",
       "</style>\n",
       "<table border=\"1\" class=\"dataframe\">\n",
       "  <thead>\n",
       "    <tr style=\"text-align: right;\">\n",
       "      <th></th>\n",
       "      <th>name</th>\n",
       "      <th>old_new</th>\n",
       "      <th>group</th>\n",
       "      <th>id</th>\n",
       "      <th>b</th>\n",
       "      <th>c</th>\n",
       "      <th>v</th>\n",
       "      <th>t</th>\n",
       "      <th>clean_t</th>\n",
       "    </tr>\n",
       "  </thead>\n",
       "  <tbody>\n",
       "    <tr>\n",
       "      <th>0</th>\n",
       "      <td>Genesis</td>\n",
       "      <td>OT</td>\n",
       "      <td>1</td>\n",
       "      <td>1001001</td>\n",
       "      <td>1</td>\n",
       "      <td>1</td>\n",
       "      <td>1</td>\n",
       "      <td>In the beginning God{After \"God,\" the Hebrew has the two letters \"Aleph Tav\" (the first and last letters of the Hebrew alphabet) as a grammatical marker.} created the heavens and the earth.</td>\n",
       "      <td>In the beginning God created the heavens and the earth.</td>\n",
       "    </tr>\n",
       "    <tr>\n",
       "      <th>1</th>\n",
       "      <td>Genesis</td>\n",
       "      <td>OT</td>\n",
       "      <td>1</td>\n",
       "      <td>1001002</td>\n",
       "      <td>1</td>\n",
       "      <td>1</td>\n",
       "      <td>2</td>\n",
       "      <td>Now the earth was formless and empty. Darkness was on the surface of the deep. God's Spirit was hovering over the surface of the waters.</td>\n",
       "      <td>Now the earth was formless and empty. Darkness was on the surface of the deep. God's Spirit was hovering over the surface of the waters.</td>\n",
       "    </tr>\n",
       "    <tr>\n",
       "      <th>2</th>\n",
       "      <td>Genesis</td>\n",
       "      <td>OT</td>\n",
       "      <td>1</td>\n",
       "      <td>1001003</td>\n",
       "      <td>1</td>\n",
       "      <td>1</td>\n",
       "      <td>3</td>\n",
       "      <td>God said, \"Let there be light,\" and there was light.</td>\n",
       "      <td>God said, \"Let there be light,\" and there was light.</td>\n",
       "    </tr>\n",
       "    <tr>\n",
       "      <th>3</th>\n",
       "      <td>Genesis</td>\n",
       "      <td>OT</td>\n",
       "      <td>1</td>\n",
       "      <td>1001004</td>\n",
       "      <td>1</td>\n",
       "      <td>1</td>\n",
       "      <td>4</td>\n",
       "      <td>God saw the light, and saw that it was good. God divided the light from the darkness.</td>\n",
       "      <td>God saw the light, and saw that it was good. God divided the light from the darkness.</td>\n",
       "    </tr>\n",
       "    <tr>\n",
       "      <th>4</th>\n",
       "      <td>Genesis</td>\n",
       "      <td>OT</td>\n",
       "      <td>1</td>\n",
       "      <td>1001005</td>\n",
       "      <td>1</td>\n",
       "      <td>1</td>\n",
       "      <td>5</td>\n",
       "      <td>God called the light Day, and the darkness he called Night. There was evening and there was morning, one day.</td>\n",
       "      <td>God called the light Day, and the darkness he called Night. There was evening and there was morning, one day.</td>\n",
       "    </tr>\n",
       "  </tbody>\n",
       "</table>\n",
       "</div>"
      ],
      "text/plain": [
       "      name old_new  group       id  b  c  v  \\\n",
       "0  Genesis      OT      1  1001001  1  1  1   \n",
       "1  Genesis      OT      1  1001002  1  1  2   \n",
       "2  Genesis      OT      1  1001003  1  1  3   \n",
       "3  Genesis      OT      1  1001004  1  1  4   \n",
       "4  Genesis      OT      1  1001005  1  1  5   \n",
       "\n",
       "                                                                                                                                                                                               t  \\\n",
       "0  In the beginning God{After \"God,\" the Hebrew has the two letters \"Aleph Tav\" (the first and last letters of the Hebrew alphabet) as a grammatical marker.} created the heavens and the earth.   \n",
       "1                                                       Now the earth was formless and empty. Darkness was on the surface of the deep. God's Spirit was hovering over the surface of the waters.   \n",
       "2                                                                                                                                           God said, \"Let there be light,\" and there was light.   \n",
       "3                                                                                                          God saw the light, and saw that it was good. God divided the light from the darkness.   \n",
       "4                                                                                  God called the light Day, and the darkness he called Night. There was evening and there was morning, one day.   \n",
       "\n",
       "                                                                                                                                    clean_t  \n",
       "0                                                                                   In the beginning God created the heavens and the earth.  \n",
       "1  Now the earth was formless and empty. Darkness was on the surface of the deep. God's Spirit was hovering over the surface of the waters.  \n",
       "2                                                                                      God said, \"Let there be light,\" and there was light.  \n",
       "3                                                     God saw the light, and saw that it was good. God divided the light from the darkness.  \n",
       "4                             God called the light Day, and the darkness he called Night. There was evening and there was morning, one day.  "
      ]
     },
     "execution_count": 16,
     "metadata": {},
     "output_type": "execute_result"
    }
   ],
   "source": [
    "df.head()"
   ]
  },
  {
   "cell_type": "markdown",
   "metadata": {},
   "source": [
    "# CREATING SQL DATABASE\n",
    "\n",
    "To begin, I'm going to create a SQL database for this project. This database will contain all of the data I pull or produce."
   ]
  },
  {
   "cell_type": "code",
   "execution_count": 17,
   "metadata": {},
   "outputs": [],
   "source": [
    "database = 'Data/SQL database.db'"
   ]
  },
  {
   "cell_type": "code",
   "execution_count": 18,
   "metadata": {},
   "outputs": [
    {
     "name": "stdout",
     "output_type": "stream",
     "text": [
      "2.6.0\n"
     ]
    }
   ],
   "source": [
    "conn = sqlite3.connect(database) \n",
    "print(sqlite3.version)\n",
    "conn.close()"
   ]
  },
  {
   "cell_type": "markdown",
   "metadata": {},
   "source": [
    "# PUSHING BIBLE DATAFRAME TO SQL DATABASE"
   ]
  },
  {
   "cell_type": "code",
   "execution_count": 19,
   "metadata": {},
   "outputs": [
    {
     "data": {
      "text/plain": [
       "31102"
      ]
     },
     "execution_count": 19,
     "metadata": {},
     "output_type": "execute_result"
    }
   ],
   "source": [
    "conn = sqlite3.connect(database)\n",
    "df.to_sql('t_web', conn, if_exists='replace', index=False)\n",
    "conn.close()"
   ]
  },
  {
   "cell_type": "markdown",
   "metadata": {},
   "source": [
    "# VIEWING TABLES IN SQL DATABASE"
   ]
  },
  {
   "cell_type": "code",
   "execution_count": 20,
   "metadata": {},
   "outputs": [
    {
     "data": {
      "text/plain": [
       "<sqlite3.Cursor at 0x2cf1bb09140>"
      ]
     },
     "execution_count": 20,
     "metadata": {},
     "output_type": "execute_result"
    },
    {
     "name": "stdout",
     "output_type": "stream",
     "text": [
      "t_web\n"
     ]
    }
   ],
   "source": [
    "conn = sqlite3.connect(database)\n",
    "cursor = conn.cursor()\n",
    "\n",
    "cursor.execute(\"SELECT name FROM sqlite_master WHERE type='table'\")\n",
    "\n",
    "for i in cursor.fetchall():\n",
    "    print(i[0])\n",
    "    \n",
    "conn.close()"
   ]
  },
  {
   "cell_type": "markdown",
   "metadata": {},
   "source": [
    "# VIEW COLUMN NAMES IN t_web"
   ]
  },
  {
   "cell_type": "code",
   "execution_count": 21,
   "metadata": {},
   "outputs": [
    {
     "data": {
      "text/plain": [
       "<sqlite3.Cursor at 0x2cf1bb093c0>"
      ]
     },
     "execution_count": 21,
     "metadata": {},
     "output_type": "execute_result"
    },
    {
     "name": "stdout",
     "output_type": "stream",
     "text": [
      "name\n",
      "old_new\n",
      "group\n",
      "id\n",
      "b\n",
      "c\n",
      "v\n",
      "t\n",
      "clean_t\n"
     ]
    }
   ],
   "source": [
    "conn = sqlite3.connect(database)\n",
    "cursor = conn.cursor()\n",
    "\n",
    "cursor.execute(\"SELECT * FROM t_web\")\n",
    "\n",
    "for i in list(cursor.description):\n",
    "    \n",
    "    print(i[0])\n",
    "    \n",
    "conn.close()"
   ]
  },
  {
   "cell_type": "markdown",
   "metadata": {},
   "source": [
    "# VIEW FIRST TEN ROWS OF t_web"
   ]
  },
  {
   "cell_type": "code",
   "execution_count": 22,
   "metadata": {},
   "outputs": [
    {
     "name": "stdout",
     "output_type": "stream",
     "text": [
      "      name old_new  group       id  b  c   v  \\\n",
      "0  Genesis      OT      1  1001001  1  1   1   \n",
      "1  Genesis      OT      1  1001002  1  1   2   \n",
      "2  Genesis      OT      1  1001003  1  1   3   \n",
      "3  Genesis      OT      1  1001004  1  1   4   \n",
      "4  Genesis      OT      1  1001005  1  1   5   \n",
      "5  Genesis      OT      1  1001006  1  1   6   \n",
      "6  Genesis      OT      1  1001007  1  1   7   \n",
      "7  Genesis      OT      1  1001008  1  1   8   \n",
      "8  Genesis      OT      1  1001009  1  1   9   \n",
      "9  Genesis      OT      1  1001010  1  1  10   \n",
      "\n",
      "                                                                                                                                                                                               t  \\\n",
      "0  In the beginning God{After \"God,\" the Hebrew has the two letters \"Aleph Tav\" (the first and last letters of the Hebrew alphabet) as a grammatical marker.} created the heavens and the earth.   \n",
      "1                                                       Now the earth was formless and empty. Darkness was on the surface of the deep. God's Spirit was hovering over the surface of the waters.   \n",
      "2                                                                                                                                           God said, \"Let there be light,\" and there was light.   \n",
      "3                                                                                                          God saw the light, and saw that it was good. God divided the light from the darkness.   \n",
      "4                                                                                  God called the light Day, and the darkness he called Night. There was evening and there was morning, one day.   \n",
      "5                                                                                  God said, \"Let there be an expanse in the midst of the waters, and let it divide the waters from the waters.\"   \n",
      "6                                                         God made the expanse, and divided the waters which were under the expanse from the waters which were above the expanse, and it was so.   \n",
      "7                                                                                                             God called the expanse sky. There was evening and there was morning, a second day.   \n",
      "8                                                                        God said, \"Let the waters under the sky be gathered together to one place, and let the dry land appear,\" and it was so.   \n",
      "9                                                                              God called the dry land Earth, and the gathering together of the waters he called Seas. God saw that it was good.   \n",
      "\n",
      "                                                                                                                                    clean_t  \n",
      "0                                                                                   In the beginning God created the heavens and the earth.  \n",
      "1  Now the earth was formless and empty. Darkness was on the surface of the deep. God's Spirit was hovering over the surface of the waters.  \n",
      "2                                                                                      God said, \"Let there be light,\" and there was light.  \n",
      "3                                                     God saw the light, and saw that it was good. God divided the light from the darkness.  \n",
      "4                             God called the light Day, and the darkness he called Night. There was evening and there was morning, one day.  \n",
      "5                             God said, \"Let there be an expanse in the midst of the waters, and let it divide the waters from the waters.\"  \n",
      "6    God made the expanse, and divided the waters which were under the expanse from the waters which were above the expanse, and it was so.  \n",
      "7                                                        God called the expanse sky. There was evening and there was morning, a second day.  \n",
      "8                   God said, \"Let the waters under the sky be gathered together to one place, and let the dry land appear,\" and it was so.  \n",
      "9                         God called the dry land Earth, and the gathering together of the waters he called Seas. God saw that it was good.  \n"
     ]
    },
    {
     "data": {
      "text/plain": [
       "<function Connection.close()>"
      ]
     },
     "execution_count": 22,
     "metadata": {},
     "output_type": "execute_result"
    }
   ],
   "source": [
    "conn = sqlite3.connect(database)\n",
    "cursor = conn.cursor()\n",
    "\n",
    "print(pd.read_sql_query(\"SELECT * FROM t_web LIMIT 10\", conn))\n",
    "\n",
    "conn.close"
   ]
  },
  {
   "cell_type": "markdown",
   "metadata": {},
   "source": [
    "# WRAP UP\n",
    "\n",
    "That's it. I've pulled and cleaned the text for the World English Bible, created a SQL database using SQLite, and pushed the data to the SQL database. I've also viewed the data in the SQL database to ensure it was stored as expected. I can now use this data for additional analyses."
   ]
  },
  {
   "cell_type": "code",
   "execution_count": null,
   "metadata": {},
   "outputs": [],
   "source": []
  }
 ],
 "metadata": {
  "kernelspec": {
   "display_name": "Python 3 (ipykernel)",
   "language": "python",
   "name": "python3"
  },
  "language_info": {
   "codemirror_mode": {
    "name": "ipython",
    "version": 3
   },
   "file_extension": ".py",
   "mimetype": "text/x-python",
   "name": "python",
   "nbconvert_exporter": "python",
   "pygments_lexer": "ipython3",
   "version": "3.10.0"
  },
  "latex_envs": {
   "LaTeX_envs_menu_present": true,
   "autoclose": false,
   "autocomplete": true,
   "bibliofile": "biblio.bib",
   "cite_by": "apalike",
   "current_citInitial": 1,
   "eqLabelWithNumbers": true,
   "eqNumInitial": 1,
   "hotkeys": {
    "equation": "Ctrl-E",
    "itemize": "Ctrl-I"
   },
   "labels_anchors": false,
   "latex_user_defs": false,
   "report_style_numbering": false,
   "user_envs_cfg": false
  },
  "toc": {
   "base_numbering": 1,
   "nav_menu": {},
   "number_sections": true,
   "sideBar": true,
   "skip_h1_title": false,
   "title_cell": "Table of Contents",
   "title_sidebar": "Contents",
   "toc_cell": false,
   "toc_position": {},
   "toc_section_display": true,
   "toc_window_display": false
  }
 },
 "nbformat": 4,
 "nbformat_minor": 4
}
