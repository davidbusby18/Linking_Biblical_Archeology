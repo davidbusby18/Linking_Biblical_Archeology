{
 "cells": [
  {
   "cell_type": "markdown",
   "id": "d9367705",
   "metadata": {},
   "source": [
    "# GENREAL SET UP\n",
    "\n",
    "My ultimate goal is to write a program that will scrape the web for articles related to Biblical archeology, predict whether or not each article is relevant, and link relevant article to specific passages in the Bible.\n",
    "\n",
    "In order to get started, I will set up a number of components. \n",
    "1. I will set up a dedicated conda environment in order to manage dependancies for this project. I will need to install many specialized packages for this project that I will not necessarily need for other projects and each of these packages comes with it's own set of dependencies. Setting up a dedicated conda environment will allow me to satisfy all of the dependencies without intefering with dependency requirements that are called for when executing a different project. Setting up a dedicated conda enviroment is like creating a playground for this project. I can do anything I want inside that environment without concern that I will mess up anything outside of it. The worst that could happen is that I will mess up this environment so badly that I have to delete it and start over. To deal with that possibilty, once I set up the dependencies in a way that works, I will generate an explicit specification file to build an identical conda environment, if needed.\n",
    "2. I will create a bat file that will automatically launch this project in the correct conda environment.\n",
    "3. I have also created the bones of a localized Python package. As I create functions that I will call regularly, I will likely include them as modules in this package for easy retrieval and use. \n",
    "4. I will create a set of regularly used commands and store them as JSON code that can be accessed through nbextentions \"Snittet Menu.\"\n",
    "5. I will setting up SQL database infrustructure to handle the data I will generate."
   ]
  },
  {
   "cell_type": "markdown",
   "id": "48543177",
   "metadata": {},
   "source": [
    "# CONDA ENVIRONMENT\n",
    "\n",
    "I find this site to be invaluable: https://docs.conda.io/projects/conda/en/latest/user-guide/tasks/manage-environments.html#cloning-an-environment. It is my go to source for answering any questions I have about conda environments. \n",
    "\n",
    "For now, I am going to start simple. I will create a conda environment call *link* which is built with the latest version of Python. To to do this I follow these steps:\n",
    "\n",
    "1. Open a command prompt\n",
    "2. Type this command into the command prompt: conda create -n link python=3.10\n",
    "3. Activate *link* with this code: activate link\n",
    "4. I like to look at what's in the environment before starting so I type this code into the command prompt: conda list\n",
    "5. Any project is going to require pandas, numpy, matplotlib and of course Jupyter Notebook. I will install them at this point. I know I will use other packages for web scraping, natural language processing and predictive modeling, but I want to explore my option a little more before deciding which of these to use.\n",
    "6. Install pandas with this code: conda install pandas. During the install process, numpy was also required, so it was installed as well. Two for one!\n",
    "7. Install matplotlib with this code: conda install matplotlib\n",
    "8. Install JupyterLab with this code: conda install -c conda-forge jupyterlab\n",
    "9. I like using several of the nbextentions such as Snippet Menus, Move selected cells, Scratchpad, Spell-Check Markdown, and Table of Contents. As such, I'll also install nbextentions using this code: conda install -c conda-forge jupyter_contrib_nbextensions\n",
    "10. jupyter contrib nbextension install --user\n",
    "11. conda install -c conda-forge jupyter_nbextensions_configurator\n",
    "12. jupyter nbextensions_configurator enable --user\n",
    "\n",
    "After launching Jupyter Notebook in this environment, the home screen will have a tab for Nbextentions. I will select my desired extentions from this tab."
   ]
  },
  {
   "cell_type": "markdown",
   "id": "711896a2",
   "metadata": {},
   "source": [
    "# LAUNCH FILE\n",
    "\n",
    "In both my day job and my personal life, I am constantly switching between projects that use Jupyter. Each time, I execute the same four steps:\n",
    "\n",
    "1. Open a command prompt\n",
    "2. Activate the desired conda environment\n",
    "3. Change the current work directory to the appropriate project folder\n",
    "4. Launch Jupyter Notebook\n",
    "\n",
    "And while this process is fairly simple, it is the slow drip of water torture to repeat these steps over and over throughout the day. It also takes time and is distracting in meetings if I ever have to quickly pull up a notebook for discussion. In these situations, there may be several sets of Team eyeballs watching my every move while waiting for the sweet release of a Jupyter Notebook to magically appear. The point is, while I love working in Jupyter Notebook, these four steps are frustrating. \n",
    "\n",
    "As such, my mission in this post is to create a \"launch button.\" This launch button should automatically execute these four steps when clicked. In addition, I would like this launch button to be portable, such that it can be copied into any project folder and used with little to no modification. \n",
    "\n",
    "This file will run several lines of bash code in a command prompt, so I am going to create a batch file. If you have never created a batch file, it is pretty straightforward. Open a text file, write literally anything, go to file and select \"save as\". When prompted, save name your file in the location of your choice with a name that is followed by \".bat\". That's it. You've just created a batch file. \n",
    "\n",
    "However, that batch file won't get us any closer to our goal. To accomplish that, I will outline the code we need and give a short explanation of what each line does.\n",
    "1. This is a batch file which is not meant to be interactive, so I am going to turn ECHO off with this code: @ ECHO OFF\n",
    "2. The first task I want this file to do is open a command prompt. To write a line of code that will do this, I have to locate the activate script that opens a command prompt and copy its path into our batch file. Here is how you can find that path:\n",
    "    * Open a command prompt\n",
    "    * Type: conda info\n",
    "    * Hit ENTER\n",
    "    * Locate the path following \"base environment :\" in the output\n",
    "    * Copy that path into the pa the batch file write the following line: call *path*\\Scripts\\activate.bat \n",
    "3. Next, I want this file to be portable so that I can copy it into any folder and launch Jupyter from that location without making changes to the batch file. %~dp0 will return the location or path of this batch file regardless of where I place it. Thus, to set my directory to make this file portable, all I have to do is add this line: call cd %~dp0\n",
    "4. Next, I will activate my conda environment with this line: call conda activate environment_name\n",
    "5. Finally, I will launch Jupyter with this line: call jupyter notebook\n",
    "\n",
    "Heres what this file looks like all together:\n",
    "\n",
    "@ ECHO OFF<br>\n",
    "call *path*\\Scripts\\activate.bat<br>\n",
    "call cd %~dp0<br>\n",
    "call conda activate environment_name<br>\n",
    "call jupyter notebook\n",
    "\n",
    "\n",
    "That is it! Save this file to your desktop as launch.bat and copy it into any project folder to automatically launch Jupyter from that location in the appropriate conda environment. Note, you will have to modify this file if you want to change the conda environment."
   ]
  },
  {
   "cell_type": "markdown",
   "id": "eab1da8f",
   "metadata": {},
   "source": [
    "# SQL PLATFORM\n",
    "\n",
    "The first thing I need to do is decide which SQL platform to use. This article was helpful: https://towardsdatascience.com/databases-101-how-to-choose-a-python-database-library-cf19d1157d45\n",
    "\n",
    "I have decided to use SQLite3 for this project since I'm not concerned about security and eveything I do will be done on my laptop. Bonus, SQLite3 is already installed with Python, so there's no set up."
   ]
  },
  {
   "cell_type": "code",
   "execution_count": null,
   "id": "0aaa5428",
   "metadata": {},
   "outputs": [],
   "source": []
  }
 ],
 "metadata": {
  "kernelspec": {
   "display_name": "Python 3 (ipykernel)",
   "language": "python",
   "name": "python3"
  },
  "language_info": {
   "codemirror_mode": {
    "name": "ipython",
    "version": 3
   },
   "file_extension": ".py",
   "mimetype": "text/x-python",
   "name": "python",
   "nbconvert_exporter": "python",
   "pygments_lexer": "ipython3",
   "version": "3.10.0"
  },
  "latex_envs": {
   "LaTeX_envs_menu_present": true,
   "autoclose": false,
   "autocomplete": true,
   "bibliofile": "biblio.bib",
   "cite_by": "apalike",
   "current_citInitial": 1,
   "eqLabelWithNumbers": true,
   "eqNumInitial": 1,
   "hotkeys": {
    "equation": "Ctrl-E",
    "itemize": "Ctrl-I"
   },
   "labels_anchors": false,
   "latex_user_defs": false,
   "report_style_numbering": false,
   "user_envs_cfg": false
  },
  "toc": {
   "base_numbering": 1,
   "nav_menu": {},
   "number_sections": true,
   "sideBar": true,
   "skip_h1_title": false,
   "title_cell": "Table of Contents",
   "title_sidebar": "Contents",
   "toc_cell": false,
   "toc_position": {},
   "toc_section_display": true,
   "toc_window_display": true
  },
  "varInspector": {
   "cols": {
    "lenName": 16,
    "lenType": 16,
    "lenVar": 40
   },
   "kernels_config": {
    "python": {
     "delete_cmd_postfix": "",
     "delete_cmd_prefix": "del ",
     "library": "var_list.py",
     "varRefreshCmd": "print(var_dic_list())"
    },
    "r": {
     "delete_cmd_postfix": ") ",
     "delete_cmd_prefix": "rm(",
     "library": "var_list.r",
     "varRefreshCmd": "cat(var_dic_list()) "
    }
   },
   "types_to_exclude": [
    "module",
    "function",
    "builtin_function_or_method",
    "instance",
    "_Feature"
   ],
   "window_display": false
  }
 },
 "nbformat": 4,
 "nbformat_minor": 5
}
