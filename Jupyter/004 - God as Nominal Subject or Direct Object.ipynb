{
 "cells": [
  {
   "cell_type": "markdown",
   "metadata": {},
   "source": [
    "# Motivation\n",
    "\n",
    "Now, that I've extracted the people names and geopolitical entities contained within the Bible, I want to know how often God or Yahwah is either the nominal subject or direct object in the Bible. The nominal subject is the person or thing that is doing something in a clause. The direct object is the person or thing that is the recipient of the action in a clause. I'd like to know how often God is doing something in the Bible and how often something is being done to God. "
   ]
  },
  {
   "cell_type": "markdown",
   "metadata": {},
   "source": [
    "# Set up\n",
    "\n",
    "This is my typical set up. I import the packages I will use, set my project directory, remove column and row limits, and allow Jupyter to display all of the output from each cell."
   ]
  },
  {
   "cell_type": "code",
   "execution_count": null,
   "metadata": {},
   "outputs": [],
   "source": [
    "import os\n",
    "import pandas as pd\n",
    "import numpy as np\n",
    "import sqlite3\n",
    "import spacy\n",
    "from datetime import datetime\n",
    "\n",
    "# Set project folder as directory\n",
    "os.chdir(r'C:/Users/david/Projects/Bible Analytics')\n",
    "\n",
    "# Remove row and column limits\n",
    "pd.set_option('display.max_columns', None)\n",
    "pd.set_option('display.max_colwidth', None)\n",
    "pd.set_option('display.max_rows', None)\n",
    "\n",
    "# Display all output from each cell\n",
    "from IPython.core.interactiveshell import InteractiveShell\n",
    "InteractiveShell.ast_node_interactivity = 'all'"
   ]
  },
  {
   "cell_type": "markdown",
   "metadata": {},
   "source": [
    "# Accessing data"
   ]
  },
  {
   "cell_type": "code",
   "execution_count": null,
   "metadata": {},
   "outputs": [],
   "source": [
    "database = 'Data/SQL database.db'"
   ]
  },
  {
   "cell_type": "code",
   "execution_count": null,
   "metadata": {},
   "outputs": [],
   "source": [
    "conn = sqlite3.connect(database)\n",
    " \n",
    "df = pd.read_sql_query('SELECT * FROM t_web', conn)\n",
    " \n",
    "conn.close"
   ]
  },
  {
   "cell_type": "code",
   "execution_count": null,
   "metadata": {},
   "outputs": [],
   "source": [
    "df.info()\n",
    "df.head()"
   ]
  },
  {
   "cell_type": "markdown",
   "metadata": {},
   "source": [
    "# BEGIN\n",
    "\n",
    "First, I will define an nlp object by loading a large, English language, trained pipeline. I'm using the large pipeline because I want my model to be able to predict the nominal subjects and direct objects as accurately as possible. The large pipeline has been trained on significantly more data and should do a better job with this task. Next, I define four variables called verses_ns, count_ns, verses_do and count_do, and I set each of these variables to 0. Then I begin iterating through the Biblical text. \n",
    "\n",
    "The very first thing I do within my FOR loop is define two more temporary variables, sub_count_ns and sub_count_do, and set them to 0. In order to know how many verses contain God as a nominal subject or direct object, I will evaluate these temporary variables to see if their value is greater than 0 after iterating through each word in every verse.\n",
    "\n",
    "Next, I'm using a TRY block to handle any errors that may occur. Within this TRY block I will define doc by applying our nlp object to the each verse's text. Then, I will use a nested FOR loop to iterate through each token. Within this nested FOR loop, I will use a conditional statement to determine if a token is either \"God\" or \"Yahweh\". If so, I will use additional conditional statements to determine is that token is either a nominal subject or direct object. If so, I will increase the temporary count for each, respectively.\n",
    "\n",
    "After iterating through the entire verse, I will use conditional statements to determine if the count for either is greater than zero. If so, I will add the verse count to the appropriate permanent count and increase the appropriate verse count.\n",
    "\n",
    "If an exception is found, the same code is repeated using the unclean text. If another exception is found, a note will be posted to the output."
   ]
  },
  {
   "cell_type": "code",
   "execution_count": null,
   "metadata": {},
   "outputs": [],
   "source": [
    "nlp = spacy.load(\"en_core_web_lg\")\n",
    "\n",
    "verses_ns = 0\n",
    "count_ns = 0\n",
    "\n",
    "verses_do = 0\n",
    "count_do = 0\n",
    "\n",
    "# Ignore this\n",
    "start = datetime.now()\n",
    "# Stop ignoring\n",
    "\n",
    "\n",
    "for index, row in df.iterrows():\n",
    "    \n",
    "    sub_count_ns = 0\n",
    "    sub_count_do = 0\n",
    "    \n",
    "    try:\n",
    "        \n",
    "        doc = nlp(row['clean_t'])        \n",
    "    \n",
    "        for token in doc:\n",
    "            \n",
    "            if token.text in(['God', 'Yahweh']):\n",
    "                \n",
    "                if token.dep_=='nsubj':\n",
    "                    sub_count_ns+=1\n",
    "                \n",
    "                elif token.dep_=='dobj':\n",
    "                    sub_count_do+=1\n",
    "        \n",
    "        if sub_count_ns>0:\n",
    "            \n",
    "            count_ns+=sub_count_ns\n",
    "            verses_ns+=1\n",
    "        \n",
    "        if sub_count_do>0:\n",
    "            \n",
    "            count_do+=sub_count_do\n",
    "            verses_do+=1\n",
    "        \n",
    "            \n",
    "    except:    \n",
    "        \n",
    "        try:\n",
    "            \n",
    "            doc = nlp(row['t'])        \n",
    "        \n",
    "            for token in doc:\n",
    "                \n",
    "                if token.text in(['God', 'Yahweh']):\n",
    "                    \n",
    "                    if token.dep_=='nsubj':\n",
    "                        sub_count_ns+=1\n",
    "                    \n",
    "                    elif token.dep_=='dobj':\n",
    "                        sub_count_do+=1\n",
    "            \n",
    "            if sub_count_ns>0:\n",
    "                \n",
    "                count_ns+=sub_count_ns\n",
    "                verses_ns+=1\n",
    "            \n",
    "            if sub_count_do>0:\n",
    "                \n",
    "                count_do+=sub_count_do\n",
    "                verses_do+=1\n",
    "                    \n",
    "        except:\n",
    "            \n",
    "            print('Check out this verse:')\n",
    "            print(row['name'], row['c'], row['v'])        \n",
    "            print()\n",
    "\n",
    "# Ignore this\n",
    "stop = datetime.now()\n",
    "\n",
    "print('This process took', stop-start)\n",
    "print()\n",
    "df.info()"
   ]
  },
  {
   "cell_type": "code",
   "execution_count": null,
   "metadata": {},
   "outputs": [],
   "source": [
    "print('God is the nominal subject', count_ns, 'times in', verses_ns, 'verses.')\n",
    "print('God is the direct object', count_do, 'times in', verses_do, 'verses.')\n",
    "print('There are', len(df), 'verses in this translantion of the Bible and 1,189 chapters.')"
   ]
  },
  {
   "cell_type": "code",
   "execution_count": null,
   "metadata": {},
   "outputs": [],
   "source": [
    "3296/31102\n",
    "512/31102"
   ]
  },
  {
   "cell_type": "markdown",
   "metadata": {},
   "source": [
    "# Results\n",
    "\n",
    "God is the nominal subject 3,582 times across 3,296 verses in the Bible. This means He's the \"doer\" in about 11% of the verses of the Bible. Clearly, He is very active is the Bible. By contrast, He is the direct object only 562 times across 512 verses. An example would be something like, \"And the people of Israel turned to God.\" This only occurred in about 2% of the verses in the Bible. \n",
    "\n",
    "I was actually surprised by this. I expected the number of times God did something and the number of times something was done to God to be close. Instead, there is a huge difference between the two. Almost ironically, the God who should be served, adored and worshiped is actually putting forth way more effort than His people. In other words, He was actively engaging with his people in 11% of the Biblical record while his people were actively engaging with Him in only 2% of the record. "
   ]
  },
  {
   "cell_type": "code",
   "execution_count": null,
   "metadata": {},
   "outputs": [],
   "source": []
  }
 ],
 "metadata": {
  "kernelspec": {
   "display_name": "Python 3 (ipykernel)",
   "language": "python",
   "name": "python3"
  },
  "language_info": {
   "codemirror_mode": {
    "name": "ipython",
    "version": 3
   },
   "file_extension": ".py",
   "mimetype": "text/x-python",
   "name": "python",
   "nbconvert_exporter": "python",
   "pygments_lexer": "ipython3",
   "version": "3.10.0"
  },
  "latex_envs": {
   "LaTeX_envs_menu_present": true,
   "autoclose": false,
   "autocomplete": true,
   "bibliofile": "biblio.bib",
   "cite_by": "apalike",
   "current_citInitial": 1,
   "eqLabelWithNumbers": true,
   "eqNumInitial": 1,
   "hotkeys": {
    "equation": "Ctrl-E",
    "itemize": "Ctrl-I"
   },
   "labels_anchors": false,
   "latex_user_defs": false,
   "report_style_numbering": false,
   "user_envs_cfg": false
  },
  "toc": {
   "base_numbering": 1,
   "nav_menu": {},
   "number_sections": true,
   "sideBar": true,
   "skip_h1_title": false,
   "title_cell": "Table of Contents",
   "title_sidebar": "Contents",
   "toc_cell": false,
   "toc_position": {},
   "toc_section_display": true,
   "toc_window_display": false
  }
 },
 "nbformat": 4,
 "nbformat_minor": 4
}
