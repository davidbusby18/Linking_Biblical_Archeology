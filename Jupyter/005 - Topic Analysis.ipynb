{
 "cells": [
  {
   "cell_type": "markdown",
   "metadata": {},
   "source": [
    "# Motivation\n",
    "\n",
    "I will run various topic modeling algorithms using the chapters of the Bible as my corpus. I'm curious if the chapters in the Bible will cluster together in some logical way, i.e. New Testament chapters, Psalms chapters, Minor Prophet chapters, etc. If not, will there be some other discernable pattern?\n",
    "\n",
    "In order to do this I will first collapse all of the text in each chapter into a single observation. I will then process that data and add the tokenized and clean list of words from each chapter to a corpus list. I will then apply various topic modeling algorithms to this corpus and analyze the results for the best fit. Once that's done, I will determine which chapters belong to the various topics. From here, I can start to answer the questions I have about topic modeling the Bible.\n",
    "\n",
    "I will use the gensim package for my analysis. This package offers several transformation methods that we will explore."
   ]
  },
  {
   "cell_type": "markdown",
   "metadata": {},
   "source": [
    "# Set up\n",
    "\n",
    "This is my typical set up. I import the packages I will use, set my project directory, remove column and row limits, and allow Jupyter to display all of the output from each cell."
   ]
  },
  {
   "cell_type": "code",
   "execution_count": 1,
   "metadata": {},
   "outputs": [],
   "source": [
    "import os\n",
    "import pandas as pd\n",
    "import numpy as np\n",
    "import sqlite3\n",
    "import spacy\n",
    "from datetime import datetime\n",
    "\n",
    "# Set project folder as directory\n",
    "os.chdir(r'C:/Users/david/Projects/Bible Analytics')\n",
    "\n",
    "# Remove row and column limits\n",
    "pd.set_option('display.max_columns', None)\n",
    "pd.set_option('display.max_colwidth', None)\n",
    "pd.set_option('display.max_rows', None)\n",
    "\n",
    "# Display all output from each cell\n",
    "from IPython.core.interactiveshell import InteractiveShell\n",
    "InteractiveShell.ast_node_interactivity = 'all'"
   ]
  },
  {
   "cell_type": "markdown",
   "metadata": {},
   "source": [
    "# Accessing data"
   ]
  },
  {
   "cell_type": "code",
   "execution_count": 2,
   "metadata": {},
   "outputs": [],
   "source": [
    "database = 'Data/SQL database.db'"
   ]
  },
  {
   "cell_type": "code",
   "execution_count": 3,
   "metadata": {},
   "outputs": [
    {
     "data": {
      "text/plain": [
       "<function Connection.close()>"
      ]
     },
     "execution_count": 3,
     "metadata": {},
     "output_type": "execute_result"
    }
   ],
   "source": [
    "conn = sqlite3.connect(database)\n",
    " \n",
    "df = pd.read_sql_query('SELECT * FROM t_web', conn)\n",
    " \n",
    "conn.close"
   ]
  },
  {
   "cell_type": "code",
   "execution_count": 4,
   "metadata": {},
   "outputs": [
    {
     "name": "stdout",
     "output_type": "stream",
     "text": [
      "<class 'pandas.core.frame.DataFrame'>\n",
      "RangeIndex: 31102 entries, 0 to 31101\n",
      "Data columns (total 9 columns):\n",
      " #   Column   Non-Null Count  Dtype \n",
      "---  ------   --------------  ----- \n",
      " 0   name     31102 non-null  object\n",
      " 1   old_new  31102 non-null  object\n",
      " 2   group    31102 non-null  int64 \n",
      " 3   id       31102 non-null  int64 \n",
      " 4   b        31102 non-null  int64 \n",
      " 5   c        31102 non-null  int64 \n",
      " 6   v        31102 non-null  int64 \n",
      " 7   t        31102 non-null  object\n",
      " 8   clean_t  31102 non-null  object\n",
      "dtypes: int64(5), object(4)\n",
      "memory usage: 2.1+ MB\n"
     ]
    },
    {
     "data": {
      "text/html": [
       "<div>\n",
       "<style scoped>\n",
       "    .dataframe tbody tr th:only-of-type {\n",
       "        vertical-align: middle;\n",
       "    }\n",
       "\n",
       "    .dataframe tbody tr th {\n",
       "        vertical-align: top;\n",
       "    }\n",
       "\n",
       "    .dataframe thead th {\n",
       "        text-align: right;\n",
       "    }\n",
       "</style>\n",
       "<table border=\"1\" class=\"dataframe\">\n",
       "  <thead>\n",
       "    <tr style=\"text-align: right;\">\n",
       "      <th></th>\n",
       "      <th>name</th>\n",
       "      <th>old_new</th>\n",
       "      <th>group</th>\n",
       "      <th>id</th>\n",
       "      <th>b</th>\n",
       "      <th>c</th>\n",
       "      <th>v</th>\n",
       "      <th>t</th>\n",
       "      <th>clean_t</th>\n",
       "    </tr>\n",
       "  </thead>\n",
       "  <tbody>\n",
       "    <tr>\n",
       "      <th>0</th>\n",
       "      <td>Genesis</td>\n",
       "      <td>OT</td>\n",
       "      <td>1</td>\n",
       "      <td>1001001</td>\n",
       "      <td>1</td>\n",
       "      <td>1</td>\n",
       "      <td>1</td>\n",
       "      <td>In the beginning God{After \"God,\" the Hebrew has the two letters \"Aleph Tav\" (the first and last letters of the Hebrew alphabet) as a grammatical marker.} created the heavens and the earth.</td>\n",
       "      <td>In the beginning God created the heavens and the earth.</td>\n",
       "    </tr>\n",
       "    <tr>\n",
       "      <th>1</th>\n",
       "      <td>Genesis</td>\n",
       "      <td>OT</td>\n",
       "      <td>1</td>\n",
       "      <td>1001002</td>\n",
       "      <td>1</td>\n",
       "      <td>1</td>\n",
       "      <td>2</td>\n",
       "      <td>Now the earth was formless and empty. Darkness was on the surface of the deep. God's Spirit was hovering over the surface of the waters.</td>\n",
       "      <td>Now the earth was formless and empty. Darkness was on the surface of the deep. God's Spirit was hovering over the surface of the waters.</td>\n",
       "    </tr>\n",
       "    <tr>\n",
       "      <th>2</th>\n",
       "      <td>Genesis</td>\n",
       "      <td>OT</td>\n",
       "      <td>1</td>\n",
       "      <td>1001003</td>\n",
       "      <td>1</td>\n",
       "      <td>1</td>\n",
       "      <td>3</td>\n",
       "      <td>God said, \"Let there be light,\" and there was light.</td>\n",
       "      <td>God said, \"Let there be light,\" and there was light.</td>\n",
       "    </tr>\n",
       "    <tr>\n",
       "      <th>3</th>\n",
       "      <td>Genesis</td>\n",
       "      <td>OT</td>\n",
       "      <td>1</td>\n",
       "      <td>1001004</td>\n",
       "      <td>1</td>\n",
       "      <td>1</td>\n",
       "      <td>4</td>\n",
       "      <td>God saw the light, and saw that it was good. God divided the light from the darkness.</td>\n",
       "      <td>God saw the light, and saw that it was good. God divided the light from the darkness.</td>\n",
       "    </tr>\n",
       "    <tr>\n",
       "      <th>4</th>\n",
       "      <td>Genesis</td>\n",
       "      <td>OT</td>\n",
       "      <td>1</td>\n",
       "      <td>1001005</td>\n",
       "      <td>1</td>\n",
       "      <td>1</td>\n",
       "      <td>5</td>\n",
       "      <td>God called the light Day, and the darkness he called Night. There was evening and there was morning, one day.</td>\n",
       "      <td>God called the light Day, and the darkness he called Night. There was evening and there was morning, one day.</td>\n",
       "    </tr>\n",
       "  </tbody>\n",
       "</table>\n",
       "</div>"
      ],
      "text/plain": [
       "      name old_new  group       id  b  c  v  \\\n",
       "0  Genesis      OT      1  1001001  1  1  1   \n",
       "1  Genesis      OT      1  1001002  1  1  2   \n",
       "2  Genesis      OT      1  1001003  1  1  3   \n",
       "3  Genesis      OT      1  1001004  1  1  4   \n",
       "4  Genesis      OT      1  1001005  1  1  5   \n",
       "\n",
       "                                                                                                                                                                                               t  \\\n",
       "0  In the beginning God{After \"God,\" the Hebrew has the two letters \"Aleph Tav\" (the first and last letters of the Hebrew alphabet) as a grammatical marker.} created the heavens and the earth.   \n",
       "1                                                       Now the earth was formless and empty. Darkness was on the surface of the deep. God's Spirit was hovering over the surface of the waters.   \n",
       "2                                                                                                                                           God said, \"Let there be light,\" and there was light.   \n",
       "3                                                                                                          God saw the light, and saw that it was good. God divided the light from the darkness.   \n",
       "4                                                                                  God called the light Day, and the darkness he called Night. There was evening and there was morning, one day.   \n",
       "\n",
       "                                                                                                                                    clean_t  \n",
       "0                                                                                   In the beginning God created the heavens and the earth.  \n",
       "1  Now the earth was formless and empty. Darkness was on the surface of the deep. God's Spirit was hovering over the surface of the waters.  \n",
       "2                                                                                      God said, \"Let there be light,\" and there was light.  \n",
       "3                                                     God saw the light, and saw that it was good. God divided the light from the darkness.  \n",
       "4                             God called the light Day, and the darkness he called Night. There was evening and there was morning, one day.  "
      ]
     },
     "execution_count": 4,
     "metadata": {},
     "output_type": "execute_result"
    }
   ],
   "source": [
    "df.info()\n",
    "df.head()"
   ]
  },
  {
   "cell_type": "markdown",
   "metadata": {},
   "source": [
    "# Begin\n",
    "\n",
    "The first thing I will do is combine all of the text in each chapter into a single observation. This is actually quite simple. I will group our data by book and chapter and apply the sum function to our clean text column. Then I will reset the index so that book and chapter show up as columns. Finally, I will merge this data with out key dataset that contains the books names. Finally, I will reorder the columns to suit my personal preferences."
   ]
  },
  {
   "cell_type": "code",
   "execution_count": 5,
   "metadata": {},
   "outputs": [
    {
     "data": {
      "text/html": [
       "<div>\n",
       "<style scoped>\n",
       "    .dataframe tbody tr th:only-of-type {\n",
       "        vertical-align: middle;\n",
       "    }\n",
       "\n",
       "    .dataframe tbody tr th {\n",
       "        vertical-align: top;\n",
       "    }\n",
       "\n",
       "    .dataframe thead th {\n",
       "        text-align: right;\n",
       "    }\n",
       "</style>\n",
       "<table border=\"1\" class=\"dataframe\">\n",
       "  <thead>\n",
       "    <tr style=\"text-align: right;\">\n",
       "      <th></th>\n",
       "      <th>name</th>\n",
       "      <th>old_new</th>\n",
       "      <th>group</th>\n",
       "      <th>b</th>\n",
       "      <th>c</th>\n",
       "      <th>clean_t</th>\n",
       "    </tr>\n",
       "  </thead>\n",
       "  <tbody>\n",
       "    <tr>\n",
       "      <th>0</th>\n",
       "      <td>Genesis</td>\n",
       "      <td>OT</td>\n",
       "      <td>1</td>\n",
       "      <td>1</td>\n",
       "      <td>1</td>\n",
       "      <td>In the beginning God created the heavens and the earth.Now the earth was formless and empty. Darkness was on the surface of the deep. God's Spirit was hovering over the surface of the waters.God said, \"Let there be light,\" and there was light.God saw the light, and saw that it was good. God divided the light from the darkness.God called the light Day, and the darkness he called Night. There was evening and there was morning, one day.God said, \"Let there be an expanse in the midst of the waters, and let it divide the waters from the waters.\"God made the expanse, and divided the waters which were under the expanse from the waters which were above the expanse, and it was so.God called the expanse sky. There was evening and there was morning, a second day.God said, \"Let the waters under the sky be gathered together to one place, and let the dry land appear,\" and it was so.God called the dry land Earth, and the gathering together of the waters he called Seas. God saw that it was good.God said, \"Let the earth put forth grass, herbs yielding seed, and fruit trees bearing fruit after their kind, with its seed in it, on the earth,\" and it was so.The earth brought forth grass, herbs yielding seed after their kind, and trees bearing fruit, with its seed in it, after their kind: and God saw that it was good.There was evening and there was morning, a third day.God said, \"Let there be lights in the expanse of sky to divide the day from the night; and let them be for signs, and for seasons, and for days and years;and let them be for lights in the expanse of sky to give light on the earth,\" and it was so.God made the two great lights: the greater light to rule the day, and the lesser light to rule the night. He also made the stars.God set them in the expanse of sky to give light to the earth,and to rule over the day and over the night, and to divide the light from the darkness. God saw that it was good.There was evening and there was morning, a fourth day.God said, \"Let the waters swarm with swarms of living creatures, and let birds fly above the earth in the open expanse of sky.\"God created the large sea creatures, and every living creature that moves, with which the waters swarmed, after their kind, and every winged bird after its kind. God saw that it was good.God blessed them, saying, \"Be fruitful, and multiply, and fill the waters in the seas, and let birds multiply on the earth.\"There was evening and there was morning, a fifth day.God said, \"Let the earth bring forth living creatures after their kind, cattle, creeping things, and animals of the earth after their kind,\" and it was so.God made the animals of the earth after their kind, and the cattle after their kind, and everything that creeps on the ground after its kind. God saw that it was good.God said, \"Let us make man in our image, after our likeness: and let them have dominion over the fish of the sea, and over the birds of the sky, and over the cattle, and over all the earth, and over every creeping thing that creeps on the earth.\"God created man in his own image. In God's image he created him; male and female he created them.God blessed them. God said to them, \"Be fruitful, multiply, fill the earth, and subdue it. Have dominion over the fish of the sea, over the birds of the sky, and over every living thing that moves on the earth.\"God said, \"Behold, I have given you every herb yielding seed, which is on the surface of all the earth, and every tree, which bears fruit yielding seed. It will be your food.To every animal of the earth, and to every bird of the sky, and to everything that creeps on the earth, in which there is life, I have given every green herb for food.\" And it was so.God saw everything that he had made, and, behold, it was very good. There was evening and there was morning, the sixth day.</td>\n",
       "    </tr>\n",
       "    <tr>\n",
       "      <th>1</th>\n",
       "      <td>Genesis</td>\n",
       "      <td>OT</td>\n",
       "      <td>1</td>\n",
       "      <td>1</td>\n",
       "      <td>2</td>\n",
       "      <td>The heavens and the earth were finished, and all the host of them.On the seventh day God finished his work which he had made; and he rested on the seventh day from all his work which he had made.God blessed the seventh day, and made it holy, because he rested in it from all his work which he had created and made.This is the history of the generations of the heavens and of the earth when they were created, in the day that Yahweh God made earth and the heavens.No plant of the field was yet in the earth, and no herb of the field had yet sprung up; for Yahweh God had not caused it to rain on the earth. There was not a man to till the ground,but a mist went up from the earth, and watered the whole surface of the ground.Yahweh God formed man from the dust of the ground, and breathed into his nostrils the breath of life; and man became a living soul.Yahweh God planted a garden eastward, in Eden, and there he put the man whom he had formed.Out of the ground Yahweh God made every tree to grow that is pleasant to the sight, and good for food; the tree of life also in the midst of the garden, and the tree of the knowledge of good and evil.A river went out of Eden to water the garden; and from there it was parted, and became four heads.The name of the first is Pishon: this is the one which flows through the whole land of Havilah, where there is gold;and the gold of that land is good. There is aromatic resin and the onyx stone.The name of the second river is Gihon: the same river that flows through the whole land of Cush.The name of the third river is Hiddekel: this is the one which flows in front of Assyria. The fourth river is the Euphrates.Yahweh God took the man, and put him into the garden of Eden to dress it and to keep it.Yahweh God commanded the man, saying, \"Of every tree of the garden you may freely eat:but of the tree of the knowledge of good and evil, you shall not eat of it: for in the day that you eat of it you will surely die.\"Yahweh God said, \"It is not good that the man should be alone; I will make him a helper suitable for him.\"Out of the ground Yahweh God formed every animal of the field, and every bird of the sky, and brought them to the man to see what he would call them. Whatever the man called every living creature, that was its name.The man gave names to all cattle, and to the birds of the sky, and to every animal of the field; but for man there was not found a helper suitable for him.Yahweh God caused a deep sleep to fall on the man, and he slept; and he took one of his ribs, and closed up the flesh in its place.He made the rib, which Yahweh God had taken from the man, into a woman, and brought her to the man.The man said, \"This is now bone of my bones, and flesh of my flesh. She will be called Woman, because she was taken out of Man.\"Therefore a man will leave his father and his mother, and will join with his wife, and they will be one flesh.They were both naked, the man and his wife, and were not ashamed.</td>\n",
       "    </tr>\n",
       "  </tbody>\n",
       "</table>\n",
       "</div>"
      ],
      "text/plain": [
       "      name old_new  group  b  c  \\\n",
       "0  Genesis      OT      1  1  1   \n",
       "1  Genesis      OT      1  1  2   \n",
       "\n",
       "                                                                                                                                                                                                                                                                                                                                                                                                                                                                                                                                                                                                                                                                                                                                                                                                                                                                                                                                                                                                                                                                                                                                                                                                                                                                                                                                                                                                                                                                                                                                                                                                                                                                                                                                                                                                                                                                                                                                                                                                                                                                                                                                                                                                                                                                                                                                                                                                                                                                                                                                                                                                                                                                                                                                                                                                                                                                                                                                                                                                                                                                                                                                                                                                                                                                                                                                                                                                                                                                                                                                                                                                                                                                                                                                                                                                                                                                                                                                                                         clean_t  \n",
       "0  In the beginning God created the heavens and the earth.Now the earth was formless and empty. Darkness was on the surface of the deep. God's Spirit was hovering over the surface of the waters.God said, \"Let there be light,\" and there was light.God saw the light, and saw that it was good. God divided the light from the darkness.God called the light Day, and the darkness he called Night. There was evening and there was morning, one day.God said, \"Let there be an expanse in the midst of the waters, and let it divide the waters from the waters.\"God made the expanse, and divided the waters which were under the expanse from the waters which were above the expanse, and it was so.God called the expanse sky. There was evening and there was morning, a second day.God said, \"Let the waters under the sky be gathered together to one place, and let the dry land appear,\" and it was so.God called the dry land Earth, and the gathering together of the waters he called Seas. God saw that it was good.God said, \"Let the earth put forth grass, herbs yielding seed, and fruit trees bearing fruit after their kind, with its seed in it, on the earth,\" and it was so.The earth brought forth grass, herbs yielding seed after their kind, and trees bearing fruit, with its seed in it, after their kind: and God saw that it was good.There was evening and there was morning, a third day.God said, \"Let there be lights in the expanse of sky to divide the day from the night; and let them be for signs, and for seasons, and for days and years;and let them be for lights in the expanse of sky to give light on the earth,\" and it was so.God made the two great lights: the greater light to rule the day, and the lesser light to rule the night. He also made the stars.God set them in the expanse of sky to give light to the earth,and to rule over the day and over the night, and to divide the light from the darkness. God saw that it was good.There was evening and there was morning, a fourth day.God said, \"Let the waters swarm with swarms of living creatures, and let birds fly above the earth in the open expanse of sky.\"God created the large sea creatures, and every living creature that moves, with which the waters swarmed, after their kind, and every winged bird after its kind. God saw that it was good.God blessed them, saying, \"Be fruitful, and multiply, and fill the waters in the seas, and let birds multiply on the earth.\"There was evening and there was morning, a fifth day.God said, \"Let the earth bring forth living creatures after their kind, cattle, creeping things, and animals of the earth after their kind,\" and it was so.God made the animals of the earth after their kind, and the cattle after their kind, and everything that creeps on the ground after its kind. God saw that it was good.God said, \"Let us make man in our image, after our likeness: and let them have dominion over the fish of the sea, and over the birds of the sky, and over the cattle, and over all the earth, and over every creeping thing that creeps on the earth.\"God created man in his own image. In God's image he created him; male and female he created them.God blessed them. God said to them, \"Be fruitful, multiply, fill the earth, and subdue it. Have dominion over the fish of the sea, over the birds of the sky, and over every living thing that moves on the earth.\"God said, \"Behold, I have given you every herb yielding seed, which is on the surface of all the earth, and every tree, which bears fruit yielding seed. It will be your food.To every animal of the earth, and to every bird of the sky, and to everything that creeps on the earth, in which there is life, I have given every green herb for food.\" And it was so.God saw everything that he had made, and, behold, it was very good. There was evening and there was morning, the sixth day.  \n",
       "1                                                                                                                                                                                                                                                                                                                                                                                                                                                                                                                                                                                                                                                                                                                                                                                                                                                                                   The heavens and the earth were finished, and all the host of them.On the seventh day God finished his work which he had made; and he rested on the seventh day from all his work which he had made.God blessed the seventh day, and made it holy, because he rested in it from all his work which he had created and made.This is the history of the generations of the heavens and of the earth when they were created, in the day that Yahweh God made earth and the heavens.No plant of the field was yet in the earth, and no herb of the field had yet sprung up; for Yahweh God had not caused it to rain on the earth. There was not a man to till the ground,but a mist went up from the earth, and watered the whole surface of the ground.Yahweh God formed man from the dust of the ground, and breathed into his nostrils the breath of life; and man became a living soul.Yahweh God planted a garden eastward, in Eden, and there he put the man whom he had formed.Out of the ground Yahweh God made every tree to grow that is pleasant to the sight, and good for food; the tree of life also in the midst of the garden, and the tree of the knowledge of good and evil.A river went out of Eden to water the garden; and from there it was parted, and became four heads.The name of the first is Pishon: this is the one which flows through the whole land of Havilah, where there is gold;and the gold of that land is good. There is aromatic resin and the onyx stone.The name of the second river is Gihon: the same river that flows through the whole land of Cush.The name of the third river is Hiddekel: this is the one which flows in front of Assyria. The fourth river is the Euphrates.Yahweh God took the man, and put him into the garden of Eden to dress it and to keep it.Yahweh God commanded the man, saying, \"Of every tree of the garden you may freely eat:but of the tree of the knowledge of good and evil, you shall not eat of it: for in the day that you eat of it you will surely die.\"Yahweh God said, \"It is not good that the man should be alone; I will make him a helper suitable for him.\"Out of the ground Yahweh God formed every animal of the field, and every bird of the sky, and brought them to the man to see what he would call them. Whatever the man called every living creature, that was its name.The man gave names to all cattle, and to the birds of the sky, and to every animal of the field; but for man there was not found a helper suitable for him.Yahweh God caused a deep sleep to fall on the man, and he slept; and he took one of his ribs, and closed up the flesh in its place.He made the rib, which Yahweh God had taken from the man, into a woman, and brought her to the man.The man said, \"This is now bone of my bones, and flesh of my flesh. She will be called Woman, because she was taken out of Man.\"Therefore a man will leave his father and his mother, and will join with his wife, and they will be one flesh.They were both naked, the man and his wife, and were not ashamed.  "
      ]
     },
     "execution_count": 5,
     "metadata": {},
     "output_type": "execute_result"
    }
   ],
   "source": [
    "chapter_text = pd.DataFrame(df.groupby(['b','c'])['clean_t'].sum())\n",
    "chapter_text.reset_index(inplace=True)\n",
    "\n",
    "key = pd.read_csv('Jupyter/Jupyter data/key_english.csv')\n",
    "\n",
    "chapter_text = key.merge(chapter_text, how='inner', left_on='b', right_on='b')\n",
    "chapter_text = chapter_text[['name', 'old_new', 'group', 'b', 'c', 'clean_t']]\n",
    "\n",
    "chapter_text.head(2)"
   ]
  },
  {
   "cell_type": "markdown",
   "metadata": {},
   "source": [
    "# Pushing chapter data to SQL database\n",
    "\n",
    "Before moving forward, I want to save this dataset to our SQL dataset."
   ]
  },
  {
   "cell_type": "code",
   "execution_count": 6,
   "metadata": {},
   "outputs": [
    {
     "data": {
      "text/plain": [
       "1189"
      ]
     },
     "execution_count": 6,
     "metadata": {},
     "output_type": "execute_result"
    }
   ],
   "source": [
    "conn = sqlite3.connect(database)\n",
    "\n",
    "chapter_text.to_sql('chapter_text', conn, if_exists='replace', index=False)\n",
    "\n",
    "conn.close()"
   ]
  },
  {
   "cell_type": "code",
   "execution_count": 7,
   "metadata": {},
   "outputs": [
    {
     "data": {
      "text/plain": [
       "<sqlite3.Cursor at 0x296364af340>"
      ]
     },
     "execution_count": 7,
     "metadata": {},
     "output_type": "execute_result"
    },
    {
     "name": "stdout",
     "output_type": "stream",
     "text": [
      "t_web\n",
      "people_names\n",
      "gpe_name\n",
      "chapter_text\n"
     ]
    }
   ],
   "source": [
    "# *table* means double quotes around table\n",
    " \n",
    "conn = sqlite3.connect(database)\n",
    "cursor = conn.cursor()\n",
    " \n",
    "cursor.execute('SELECT name FROM sqlite_master WHERE type=\"table\"')\n",
    " \n",
    "for i in cursor.fetchall():\n",
    "    print(i[0])\n",
    "    \n",
    "conn.close()"
   ]
  },
  {
   "cell_type": "markdown",
   "metadata": {},
   "source": [
    "# Compiling stop words from NLP packages\n",
    "\n",
    "Next, I will clean the data by removing what are called \"stop words.\" These are commonly used words that would tell us very little about any particular topic, e.g. he, they, are, and. There are several NLP packages that have their own lists of stop words. I've examined each of these lists in the past and I'm comfortable removing the stop words contained in each list. As such, I will combine these list into a single list that I will then use for processing. I will also add some additional words that are specific to the Bible. "
   ]
  },
  {
   "cell_type": "code",
   "execution_count": 8,
   "metadata": {},
   "outputs": [
    {
     "name": "stdout",
     "output_type": "stream",
     "text": [
      "There are 179 stopwords in nltk, 337 in gensim, and 326 in spacy.\n"
     ]
    }
   ],
   "source": [
    "from nltk.corpus import stopwords\n",
    "nltk_stopwords = stopwords.words('english')\n",
    "\n",
    "from gensim.parsing.preprocessing import STOPWORDS\n",
    "gen_stopwords = list(STOPWORDS)\n",
    "\n",
    "nlp = spacy.load('en_core_web_lg')\n",
    "spacy_stopwords = list(nlp.Defaults.stop_words)\n",
    "\n",
    "print('There are', len(nltk_stopwords), 'stopwords in nltk,', len(gen_stopwords), 'in gensim, and', len(spacy_stopwords), 'in spacy.')"
   ]
  },
  {
   "cell_type": "code",
   "execution_count": 9,
   "metadata": {},
   "outputs": [
    {
     "data": {
      "text/plain": [
       "417"
      ]
     },
     "execution_count": 9,
     "metadata": {},
     "output_type": "execute_result"
    }
   ],
   "source": [
    "stopwords = list(set(nltk_stopwords+gen_stopwords+spacy_stopwords+['shall', 'let', 'come', 'go', 'know', 'like']))\n",
    "len(stopwords)"
   ]
  },
  {
   "cell_type": "markdown",
   "metadata": {},
   "source": [
    "# Processing the text\n",
    "\n",
    "I will also lemmatize the data after removing stopwords. Lemmatizing the text will revert each word back to its root. For instance, \"run\" will be changed to \"ran.\" By doing this, we ensure run and ran are treated as the same word.\n",
    "\n",
    "I will begin this by defining an nlp object and loading the large, English language pipeline. I will then define an empty corpus list that we will use for topic modeling. There's some stuff about timing. Then, within a FOR loop I will iterate through the text list for each chapter. First, I'll define an empty list called temp. Then, I will create a TRY block to handle any exceptions. Within this TRY block, I will create a document for each chapter by applying our nlp object to the chapter text. Then, I will created a nested FOR loop and iterate through each word of each chapter. Within this nested FOR loop, I first filter out any proper nouns. I've thought about this and decided I didn't want the topics to be driven by the people and places mentioned in each chapter. By removing proper nouns, I hope these topics will be more content driven. Next, I will use conditional statements to remove any word whose lemmatized version is in our customized list of stop words. For instance, \"say\" is in our list of stop words, so \"said\" would also be removed. I also removed punctuation. Finally each lemmatized token is added to the list of words for that chapter. Once every token in a chapter has been iterated through, the entire list of lammetized words is added to our corpus list. The only thing left to mention is that an EXCEPT block is included to handle any errors and tell us where those errors occur should we need to investigate."
   ]
  },
  {
   "cell_type": "code",
   "execution_count": 11,
   "metadata": {
    "scrolled": false
   },
   "outputs": [
    {
     "name": "stdout",
     "output_type": "stream",
     "text": [
      "This process took 0:02:37.198645\n",
      "\n"
     ]
    }
   ],
   "source": [
    "nlp = spacy.load(\"en_core_web_lg\")\n",
    "\n",
    "corpus_list = []\n",
    "\n",
    "# Ignore this\n",
    "start = datetime.now()\n",
    "# Stop ignoring\n",
    "\n",
    "for index, row in chapter_text.iterrows():\n",
    "    \n",
    "    temp=[]\n",
    "    \n",
    "    try:\n",
    "        \n",
    "        doc = nlp(row['clean_t'])        \n",
    "    \n",
    "        for token in doc:\n",
    "            \n",
    "            if token.pos_ != 'PROPN':\n",
    "                \n",
    "                # Removing stopwords\n",
    "                if token.lemma_.lower() not in stopwords:\n",
    "                    if not token.is_punct:\n",
    "                        \n",
    "                        temp+=[token.lemma_.lower()]\n",
    "                    \n",
    "        corpus_list.append(temp)\n",
    "                \n",
    "    except:\n",
    "        \n",
    "        print('Check out this chapter:')\n",
    "        print(row['name'], row['c'])        \n",
    "        print()\n",
    "\n",
    "# Ignore this\n",
    "stop = datetime.now()\n",
    "\n",
    "print('This process took', stop-start)\n",
    "print()\n"
   ]
  },
  {
   "cell_type": "code",
   "execution_count": 12,
   "metadata": {},
   "outputs": [
    {
     "data": {
      "text/plain": [
       "['beginning',\n",
       " 'create',\n",
       " 'heaven',\n",
       " 'earth',\n",
       " 'earth',\n",
       " 'formless',\n",
       " 'darkness',\n",
       " 'surface',\n",
       " 'deep',\n",
       " 'hover',\n",
       " 'surface',\n",
       " 'water',\n",
       " 'light',\n",
       " 'light',\n",
       " 'light',\n",
       " 'good',\n",
       " 'divide',\n",
       " 'light',\n",
       " 'darkness',\n",
       " 'light',\n",
       " 'darkness',\n",
       " 'evening',\n",
       " 'morning',\n",
       " 'day',\n",
       " 'expanse',\n",
       " 'midst',\n",
       " 'water',\n",
       " 'divide',\n",
       " 'water',\n",
       " 'water',\n",
       " 'expanse',\n",
       " 'divide',\n",
       " 'water',\n",
       " 'expanse',\n",
       " 'water',\n",
       " 'expanse',\n",
       " 'expanse',\n",
       " 'sky',\n",
       " 'evening',\n",
       " 'morning',\n",
       " 'second',\n",
       " 'day',\n",
       " 'water',\n",
       " 'sky',\n",
       " 'gather',\n",
       " 'place',\n",
       " 'dry',\n",
       " 'land',\n",
       " 'appear',\n",
       " 'dry',\n",
       " 'land',\n",
       " 'gathering',\n",
       " 'water',\n",
       " 'good',\n",
       " 'earth',\n",
       " 'forth',\n",
       " 'grass',\n",
       " 'herb',\n",
       " 'yield',\n",
       " 'seed',\n",
       " 'fruit',\n",
       " 'tree',\n",
       " 'bear',\n",
       " 'fruit',\n",
       " 'kind',\n",
       " 'seed',\n",
       " 'earth',\n",
       " 'earth',\n",
       " 'bring',\n",
       " 'forth',\n",
       " 'grass',\n",
       " 'herb',\n",
       " 'yield',\n",
       " 'seed',\n",
       " 'kind',\n",
       " 'tree',\n",
       " 'bear',\n",
       " 'fruit',\n",
       " 'seed',\n",
       " 'kind',\n",
       " 'good',\n",
       " 'evening',\n",
       " 'morning',\n",
       " 'day',\n",
       " 'light',\n",
       " 'expanse',\n",
       " 'sky',\n",
       " 'divide',\n",
       " 'day',\n",
       " 'night',\n",
       " 'sign',\n",
       " 'season',\n",
       " 'day',\n",
       " 'years;and',\n",
       " 'light',\n",
       " 'expanse',\n",
       " 'sky',\n",
       " 'light',\n",
       " 'earth',\n",
       " 'great',\n",
       " 'light',\n",
       " 'great',\n",
       " 'light',\n",
       " 'rule',\n",
       " 'day',\n",
       " 'light',\n",
       " 'rule',\n",
       " 'night',\n",
       " 'star',\n",
       " 'set',\n",
       " 'expanse',\n",
       " 'sky',\n",
       " 'light',\n",
       " 'earth',\n",
       " 'rule',\n",
       " 'day',\n",
       " 'night',\n",
       " 'divide',\n",
       " 'light',\n",
       " 'darkness',\n",
       " 'good',\n",
       " 'evening',\n",
       " 'morning',\n",
       " 'fourth',\n",
       " 'day',\n",
       " 'water',\n",
       " 'swarm',\n",
       " 'swarm',\n",
       " 'live',\n",
       " 'creature',\n",
       " 'bird',\n",
       " 'fly',\n",
       " 'earth',\n",
       " 'open',\n",
       " 'expanse',\n",
       " 'sky',\n",
       " 'create',\n",
       " 'large',\n",
       " 'sea',\n",
       " 'creature',\n",
       " 'live',\n",
       " 'creature',\n",
       " 'water',\n",
       " 'swarm',\n",
       " 'kind',\n",
       " 'winged',\n",
       " 'bird',\n",
       " 'kind',\n",
       " 'good',\n",
       " 'bless',\n",
       " 'fruitful',\n",
       " 'multiply',\n",
       " 'water',\n",
       " 'sea',\n",
       " 'bird',\n",
       " 'multiply',\n",
       " 'earth',\n",
       " '\"there',\n",
       " 'evening',\n",
       " 'morning',\n",
       " 'fifth',\n",
       " 'day',\n",
       " 'earth',\n",
       " 'bring',\n",
       " 'forth',\n",
       " 'live',\n",
       " 'creature',\n",
       " 'kind',\n",
       " 'cattle',\n",
       " 'creep',\n",
       " 'thing',\n",
       " 'animal',\n",
       " 'earth',\n",
       " 'kind',\n",
       " 'animal',\n",
       " 'earth',\n",
       " 'kind',\n",
       " 'cattle',\n",
       " 'kind',\n",
       " 'creep',\n",
       " 'ground',\n",
       " 'kind',\n",
       " 'good',\n",
       " 'man',\n",
       " 'image',\n",
       " 'likeness',\n",
       " 'dominion',\n",
       " 'fish',\n",
       " 'sea',\n",
       " 'bird',\n",
       " 'sky',\n",
       " 'cattle',\n",
       " 'earth',\n",
       " 'creep',\n",
       " 'thing',\n",
       " 'creep',\n",
       " 'earth',\n",
       " 'create',\n",
       " 'man',\n",
       " 'image',\n",
       " 'image',\n",
       " 'create',\n",
       " 'male',\n",
       " 'female',\n",
       " 'create',\n",
       " 'bless',\n",
       " 'fruitful',\n",
       " 'multiply',\n",
       " 'earth',\n",
       " 'subdue',\n",
       " 'dominion',\n",
       " 'fish',\n",
       " 'sea',\n",
       " 'bird',\n",
       " 'sky',\n",
       " 'living',\n",
       " 'thing',\n",
       " 'earth',\n",
       " 'herb',\n",
       " 'yield',\n",
       " 'seed',\n",
       " 'surface',\n",
       " 'earth',\n",
       " 'tree',\n",
       " 'bear',\n",
       " 'fruit',\n",
       " 'yield',\n",
       " 'seed',\n",
       " 'food',\n",
       " 'animal',\n",
       " 'earth',\n",
       " 'bird',\n",
       " 'sky',\n",
       " 'creep',\n",
       " 'earth',\n",
       " 'life',\n",
       " 'green',\n",
       " 'herb',\n",
       " 'food',\n",
       " 'behold',\n",
       " 'good',\n",
       " 'evening',\n",
       " 'morning',\n",
       " 'sixth',\n",
       " 'day']"
      ]
     },
     "execution_count": 12,
     "metadata": {},
     "output_type": "execute_result"
    }
   ],
   "source": [
    "corpus_list[0]"
   ]
  },
  {
   "cell_type": "markdown",
   "metadata": {},
   "source": [
    "This code took just over two minutes and looks good."
   ]
  },
  {
   "cell_type": "markdown",
   "metadata": {},
   "source": [
    "# Converting corpus_list into a corpus\n",
    "\n",
    "Before I get started, I will first construct a dictionary that will map the words in the Bible to integer ids. I will then use this dictionary to convert each chapter of the Bible into a \"bag of words\" (bow). This collection of converted chapters is the corpus that I will run topic analysis on."
   ]
  },
  {
   "cell_type": "code",
   "execution_count": 13,
   "metadata": {},
   "outputs": [],
   "source": [
    "import gensim.corpora as corpora\n",
    "\n",
    "id2word = corpora.Dictionary(corpus_list)\n",
    "\n",
    "# Term Document Frequency\n",
    "chapter_corpus = [id2word.doc2bow(text) for text in corpus_list]"
   ]
  },
  {
   "cell_type": "markdown",
   "metadata": {
    "heading_collapsed": true
   },
   "source": [
    "# Modeling\n",
    "\n",
    "Gensim provides several transformation models. Documentation for these models is here: https://radimrehurek.com/gensim/auto_examples/core/run_topics_and_transformations.html"
   ]
  },
  {
   "cell_type": "markdown",
   "metadata": {},
   "source": [
    "# Term Frequency - Inverse Document Frequency\n",
    "\n",
    "I will start with TF-IDF. This transformation model is a little different from the rest because it does not reduce dimensionality. I keeps the same vector space as our original corpus but down-weights commonly occurring terms while up-weighting less commonly occurring terms. In this transformed vector space, commonly occurring words carry less weight when determining a topic, while less commonly occurring words carry more weight. The TF-IDF corpus is still a bag of words with the same dimensionality as the original corpus.\n",
    "\n",
    "I am going to create a TF-IDF corpus and model both to see which performs better."
   ]
  },
  {
   "cell_type": "code",
   "execution_count": 17,
   "metadata": {},
   "outputs": [],
   "source": [
    "from gensim import models"
   ]
  },
  {
   "cell_type": "code",
   "execution_count": 21,
   "metadata": {},
   "outputs": [],
   "source": [
    "tfidf = models.TfidfModel(chapter_corpus)\n",
    "tfidf_corpus = tfidf[chapter_corpus]"
   ]
  },
  {
   "cell_type": "code",
   "execution_count": 22,
   "metadata": {
    "collapsed": true
   },
   "outputs": [
    {
     "data": {
      "text/plain": [
       "[(0, 0.05579895713527547),\n",
       " (1, 0.06616092968307967),\n",
       " (2, 0.027957469513631487),\n",
       " (3, 0.04610837550812367),\n",
       " (4, 0.029583726054600343),\n",
       " (5, 0.010157023944924138),\n",
       " (6, 0.166255366939819),\n",
       " (7, 0.0346621330412532),\n",
       " (8, 0.01213402174889326),\n",
       " (9, 0.08581469612409519),\n",
       " (10, 0.1816294113464808),\n",
       " (11, 0.15972505546707227),\n",
       " (12, 0.21819218023932366),\n",
       " (13, 0.10201341718182848),\n",
       " (14, 0.04220053475039981),\n",
       " (15, 0.03150717929287379),\n",
       " (16, 0.14647336382853357),\n",
       " (17, 0.07321445308855057),\n",
       " (18, 0.057478585384035205),\n",
       " (19, 0.2095434477798778),\n",
       " (20, 0.16927016102139514),\n",
       " (21, 0.5195016933619402),\n",
       " (22, 0.04117384957813832),\n",
       " (23, 0.03454216332647295),\n",
       " (24, 0.0715694980756864),\n",
       " (25, 0.036607226544275284),\n",
       " (26, 0.04513673794667273),\n",
       " (27, 0.07470163443738201),\n",
       " (28, 0.03293473634939516),\n",
       " (29, 0.03018673503570108),\n",
       " (30, 0.08463856592282425),\n",
       " (31, 0.07627773108907832),\n",
       " (32, 0.015255815194767793),\n",
       " (33, 0.07470163443738201),\n",
       " (34, 0.07808889855007879),\n",
       " (35, 0.0686205811689194),\n",
       " (36, 0.017572249974172203),\n",
       " (37, 0.036607226544275284),\n",
       " (38, 0.022344690239558405),\n",
       " (39, 0.02335019215172248),\n",
       " (40, 0.16836720361699078),\n",
       " (41, 0.06738908065881344),\n",
       " (42, 0.08425144726548729),\n",
       " (43, 0.31507179292873794),\n",
       " (44, 0.01777730086052977),\n",
       " (45, 0.038473807488092),\n",
       " (46, 0.014705266714967842),\n",
       " (47, 0.26920269627703286),\n",
       " (48, 0.04420883361173748),\n",
       " (49, 0.03256018339551605),\n",
       " (50, 0.031864833376679016),\n",
       " (51, 0.02943820947066741),\n",
       " (52, 0.005025592980132939),\n",
       " (53, 0.017562939262639847),\n",
       " (54, 0.1293772023670337),\n",
       " (55, 0.08788401829712014),\n",
       " (56, 0.05282979510439127),\n",
       " (57, 0.01834115629329898),\n",
       " (58, 0.008806550521196612),\n",
       " (59, 0.0862178780760528),\n",
       " (60, 0.07296272556119428),\n",
       " (61, 0.03386129579956975),\n",
       " (62, 0.02264399499663074),\n",
       " (63, 0.12735470730292625),\n",
       " (64, 0.010041472022224277),\n",
       " (65, 0.025704308658418447),\n",
       " (66, 0.03689627983316891),\n",
       " (67, 0.18694135778934476),\n",
       " (68, 0.03301686243698702),\n",
       " (69, 0.042091800904247696),\n",
       " (70, 0.10362648997941884),\n",
       " (71, 0.14821306404844878),\n",
       " (72, 0.022501644404885102),\n",
       " (73, 0.06046241870562595),\n",
       " (74, 0.15051874053103748),\n",
       " (75, 0.0577224103735489),\n",
       " (76, 0.06738908065881344),\n",
       " (77, 0.15670954862099032)]"
      ]
     },
     "execution_count": 22,
     "metadata": {},
     "output_type": "execute_result"
    }
   ],
   "source": [
    "tfidf_corpus[0]"
   ]
  },
  {
   "cell_type": "code",
   "execution_count": 20,
   "metadata": {
    "collapsed": true
   },
   "outputs": [
    {
     "data": {
      "text/plain": [
       "[(0, 1),\n",
       " (1, 3),\n",
       " (2, 1),\n",
       " (3, 3),\n",
       " (4, 1),\n",
       " (5, 1),\n",
       " (6, 6),\n",
       " (7, 2),\n",
       " (8, 2),\n",
       " (9, 3),\n",
       " (10, 5),\n",
       " (11, 4),\n",
       " (12, 5),\n",
       " (13, 4),\n",
       " (14, 10),\n",
       " (15, 1),\n",
       " (16, 5),\n",
       " (17, 2),\n",
       " (18, 2),\n",
       " (19, 19),\n",
       " (20, 6),\n",
       " (21, 9),\n",
       " (22, 1),\n",
       " (23, 1),\n",
       " (24, 2),\n",
       " (25, 1),\n",
       " (26, 2),\n",
       " (27, 1),\n",
       " (28, 3),\n",
       " (29, 1),\n",
       " (30, 4),\n",
       " (31, 2),\n",
       " (32, 1),\n",
       " (33, 1),\n",
       " (34, 7),\n",
       " (35, 2),\n",
       " (36, 2),\n",
       " (37, 1),\n",
       " (38, 1),\n",
       " (39, 1),\n",
       " (40, 4),\n",
       " (41, 1),\n",
       " (42, 3),\n",
       " (43, 10),\n",
       " (44, 2),\n",
       " (45, 1),\n",
       " (46, 1),\n",
       " (47, 13),\n",
       " (48, 1),\n",
       " (49, 3),\n",
       " (50, 1),\n",
       " (51, 1),\n",
       " (52, 2),\n",
       " (53, 1),\n",
       " (54, 6),\n",
       " (55, 3),\n",
       " (56, 3),\n",
       " (57, 1),\n",
       " (58, 1),\n",
       " (59, 3),\n",
       " (60, 4),\n",
       " (61, 1),\n",
       " (62, 1),\n",
       " (63, 6),\n",
       " (64, 1),\n",
       " (65, 1),\n",
       " (66, 1),\n",
       " (67, 9),\n",
       " (68, 1),\n",
       " (69, 1),\n",
       " (70, 3),\n",
       " (71, 3),\n",
       " (72, 3),\n",
       " (73, 3),\n",
       " (74, 11),\n",
       " (75, 1),\n",
       " (76, 1),\n",
       " (77, 4)]"
      ]
     },
     "execution_count": 20,
     "metadata": {},
     "output_type": "execute_result"
    }
   ],
   "source": [
    "chapter_corpus[0]"
   ]
  },
  {
   "cell_type": "markdown",
   "metadata": {},
   "source": [
    "# Topic modeling\n",
    "\n",
    "The Bible covers a lot of subjects so I will set the number of topics to 100. We'll evaluate this later and either increase or decrease it. Then I'm going to run our LDA on the chapter_corpus"
   ]
  },
  {
   "cell_type": "code",
   "execution_count": null,
   "metadata": {},
   "outputs": [],
   "source": [
    "import gensim\n",
    "from pprint import pprint\n",
    "# number of topics\n",
    "num_topics = 5\n",
    "# Build LDA model\n",
    "lda_model = gensim.models.LdaMulticore(corpus=chapter_corpus,\n",
    "                                       id2word=id2word,\n",
    "                                       num_topics=num_topics)"
   ]
  },
  {
   "cell_type": "code",
   "execution_count": null,
   "metadata": {},
   "outputs": [],
   "source": [
    "import pyLDAvis\n",
    "import pyLDAvis.gensim_models\n",
    "\n",
    "# Visualize the topics\n",
    "pyLDAvis.enable_notebook()\n",
    "\n",
    "LDAvis_prepared = pyLDAvis.gensim_models.prepare(lda_model, chapter_corpus, id2word)\n",
    "\n",
    "LDAvis_prepared"
   ]
  },
  {
   "cell_type": "code",
   "execution_count": null,
   "metadata": {},
   "outputs": [],
   "source": []
  }
 ],
 "metadata": {
  "kernelspec": {
   "display_name": "Python 3 (ipykernel)",
   "language": "python",
   "name": "python3"
  },
  "language_info": {
   "codemirror_mode": {
    "name": "ipython",
    "version": 3
   },
   "file_extension": ".py",
   "mimetype": "text/x-python",
   "name": "python",
   "nbconvert_exporter": "python",
   "pygments_lexer": "ipython3",
   "version": "3.10.0"
  },
  "latex_envs": {
   "LaTeX_envs_menu_present": true,
   "autoclose": false,
   "autocomplete": true,
   "bibliofile": "biblio.bib",
   "cite_by": "apalike",
   "current_citInitial": 1,
   "eqLabelWithNumbers": true,
   "eqNumInitial": 1,
   "hotkeys": {
    "equation": "Ctrl-E",
    "itemize": "Ctrl-I"
   },
   "labels_anchors": false,
   "latex_user_defs": false,
   "report_style_numbering": false,
   "user_envs_cfg": false
  },
  "toc": {
   "base_numbering": 1,
   "nav_menu": {},
   "number_sections": true,
   "sideBar": true,
   "skip_h1_title": false,
   "title_cell": "Table of Contents",
   "title_sidebar": "Contents",
   "toc_cell": false,
   "toc_position": {},
   "toc_section_display": true,
   "toc_window_display": true
  }
 },
 "nbformat": 4,
 "nbformat_minor": 4
}
